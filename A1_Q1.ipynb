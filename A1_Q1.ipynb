{
  "nbformat": 4,
  "nbformat_minor": 0,
  "metadata": {
    "colab": {
      "name": "A1-Q1.ipynb",
      "version": "0.3.2",
      "provenance": [],
      "collapsed_sections": [],
      "toc_visible": true,
      "include_colab_link": true
    },
    "kernelspec": {
      "name": "python3",
      "display_name": "Python 3"
    },
    "accelerator": "TPU"
  },
  "cells": [
    {
      "cell_type": "markdown",
      "metadata": {
        "id": "view-in-github",
        "colab_type": "text"
      },
      "source": [
        "<a href=\"https://colab.research.google.com/github/lebrice/IFT6135/blob/master/A1_Q1.ipynb\" target=\"_parent\"><img src=\"https://colab.research.google.com/assets/colab-badge.svg\" alt=\"Open In Colab\"/></a>"
      ]
    },
    {
      "metadata": {
        "id": "nj_fBpTZ4VXG",
        "colab_type": "code",
        "colab": {}
      },
      "cell_type": "code",
      "source": [
        "#!/usr/bin/python3\n",
        "\n",
        "\"\"\"\n",
        "IFT 6135 - Representation Learning Assignment #1\n",
        "\n",
        "Arnold Kokoroko - 20142304\n",
        "Fabrice Normandin - 20142128 \n",
        "Jerome Parent-Lévesque - 20143161\n",
        "\n",
        "Github Repository: https://github.com/lebrice/IFT6135\n",
        "\"\"\"\n",
        "\n",
        "import numpy as np\n",
        "import matplotlib.pyplot as plt\n",
        "from typing import List, Tuple, Dict\n",
        "from itertools import islice\n",
        "from enum import Enum\n",
        "\n",
        "# we use the neat utility from tensorflow-keras to load the dataset in one line (rather than by using the download.py script.)\n",
        "from tensorflow.keras.datasets.mnist import load_data\n",
        "(x_train, y_train), (x_test, y_test) = load_data()\n",
        "\n",
        "SIGMOID = \"SIGMOID\"\n",
        "RELU = \"RELU\"\n",
        "TANH = \"TANH\"\n"
      ],
      "execution_count": 0,
      "outputs": []
    },
    {
      "metadata": {
        "id": "o4nHrc4G6ckX",
        "colab_type": "text"
      },
      "cell_type": "markdown",
      "source": [
        "## Model Definition\n"
      ]
    },
    {
      "metadata": {
        "id": "tyKs5R---M27",
        "colab_type": "code",
        "colab": {}
      },
      "cell_type": "code",
      "source": [
        "class Mode(Enum):\n",
        "    TRAIN = \"train\"\n",
        "    TEST = \"test\"    \n",
        "    \n",
        "def zero_initializer(shape: Tuple[int, int]) -> np.array:\n",
        "    return np.zeros(shape, dtype=float)\n",
        "\n",
        "def normal_initializer(shape: Tuple[int, int]) -> np.array:\n",
        "    #We can divide the normal_initializer by 100 to avoid the RELU overflowing \n",
        "    return np.random.normal(size=shape)/1   \n",
        "\n",
        "def glorot_initializer(shape: Tuple[int, int]) -> np.array:\n",
        "    fan_in = np.prod(shape)\n",
        "    limit = np.sqrt(6 / fan_in)\n",
        "    return np.random.uniform(low=-limit, high=limit, size=shape)\n",
        "    \n",
        "class NN(object):\n",
        "\n",
        "    def __init__(self,\n",
        "                 hidden_dims=(700, 500),\n",
        "                 n_hidden=2,\n",
        "                 mode=Mode.TRAIN,\n",
        "                 datapath=None,\n",
        "                 model_path=None,\n",
        "                 initializer = glorot_initializer,\n",
        "                 activation_mode = RELU,\n",
        "                 learning_rate=0.01,\n",
        "                 regularization=0,\n",
        "                 mini_batch_size=32,\n",
        "                ):\n",
        "        self.hidden_dims : List[int] = hidden_dims\n",
        "        self.n_hidden = len(hidden_dims)\n",
        "        self.mode: Mode = mode\n",
        "        self.initializer = initializer\n",
        "        self.weights = None\n",
        "        self.biases = None\n",
        "        self.activation_mode = activation_mode\n",
        "        self.learning_rate = learning_rate\n",
        "        self.regularization = regularization\n",
        "        self.mini_batch_size = mini_batch_size\n",
        "        \n",
        "        self.initialize_weights()\n",
        "            \n",
        "\n",
        "    def initialize_weights(self) -> None:\n",
        "        if self.weights is not None:\n",
        "            del self.weights\n",
        "        \n",
        "        self.weights = []\n",
        "        for i in range(self.n_hidden + 1):\n",
        "            shape: Tuple[int, int]\n",
        "            if i == 0:\n",
        "                #first layer. We have an input size of 28*28=784\n",
        "                shape = [784, self.hidden_dims[i]]\n",
        "            elif i == self.n_hidden:\n",
        "                # last layer, We have an output size of 10.\n",
        "                shape = [self.hidden_dims[-1], 10]\n",
        "            else:\n",
        "                #middle layer\n",
        "                shape = [self.weights[-1].shape[1], self.hidden_dims[i]]\n",
        "            self.weights.append(self.initializer(shape))\n",
        "        \n",
        "        if self.biases is not None:\n",
        "            del self.biases\n",
        "        self.biases = []\n",
        "        for weight in self.weights:\n",
        "            shape = [weight.shape[1]]\n",
        "            self.biases.append(zero_initializer(shape))\n",
        "            \n",
        "\n",
        "    def forward(self, input: np.array, *args) -> List[np.array]:\n",
        "        outputs = []\n",
        "        xs = np.reshape(input, [-1, 28*28])\n",
        "        for i, (w, b) in enumerate(zip(self.weights, self.biases)):\n",
        "            xs = np.matmul(xs, w) + b\n",
        "            xs = self.softmax(xs) if i == self.n_hidden else self.activation(xs)\n",
        "            outputs.append(xs)\n",
        "        return outputs\n",
        "      \n",
        "    \n",
        "    def activation(self, input: np.array) -> np.array:\n",
        "        #return the RELU, TANH or sigmoid activation\n",
        "        if self.activation_mode == RELU:\n",
        "            return np.maximum(input,0)\n",
        "        elif self.activation_mode == SIGMOID:\n",
        "            return 1 / (1 + np.exp(-input))\n",
        "        else:\n",
        "            return np.tanh(input)\n",
        "      \n",
        "      \n",
        "    def derivate_activation(self, outputs: np.array) -> np.array:\n",
        "        #Return the derivative of RELU or derivate of sigmoid\n",
        "        if self.activation_mode == RELU:\n",
        "            outputs[outputs <= 0] = 0\n",
        "            outputs[outputs > 0] = 1\n",
        "        elif self.activation_mode == SIGMOID :\n",
        "            outputs = np.multiply(outputs, 1-outputs)\n",
        "        else:\n",
        "            outputs = 1-np.tanh(outputs)**2\n",
        "        return outputs \n",
        "\n",
        "      \n",
        "    @staticmethod\n",
        "    def softmax(input: np.array) -> np.array:\n",
        "      \n",
        "        \"\"\"\"\n",
        "        Softmax is translation invariant so we can shift the array by the\n",
        "        maximum element in the array to create a numerically stable\n",
        "        version of softmax\n",
        "        \"\"\"\n",
        "        \n",
        "        z = input - np.max(input, axis=-1, keepdims=True)\n",
        "        numerator = np.exp(z)\n",
        "        denominator = np.sum(numerator, axis=-1, keepdims=True)\n",
        "        softmax = numerator/denominator\n",
        "        return softmax\n",
        "    \n",
        "    #Returns the Cross Entropy loss of an output\n",
        "    def loss(self, y_predicted: np.array, y_train: int, *args) -> float:\n",
        "        #l2 regulatization\n",
        "        l2_reg = 0\n",
        "        if self.regularization > 0:\n",
        "                weight_norm = 0\n",
        "                for i in range(self.n_hidden + 1): \n",
        "                    weight_norm += np.sum(self.weights[i] ** 2)\n",
        "                l2_reg =(0.5)* self.regularization * weight_norm\n",
        "        \n",
        "        return -np.log(y_predicted[y_train]) + l2_reg\n",
        "      \n",
        "    #Returns the Cross Entropy Loss of the outputs of a mini batch\n",
        "    def loss_minibatch(self, y_predicted: np.array, y_train: np.array, *args) -> np.array:\n",
        "        #L2 regularization\n",
        "        l2_reg = 0\n",
        "        if self.regularization > 0:\n",
        "                weight_norm = 0\n",
        "                for i in range(self.n_hidden + 1): \n",
        "                    weight_norm += np.sum(self.weights[i] ** 2)\n",
        "                l2_reg =(0.5)* self.regularization * weight_norm\n",
        "              \n",
        "        loss = [-np.log(row[index])+ l2_reg for row, index in zip(y_predicted, y_train)]\n",
        "        return loss\n",
        "      \n",
        "    \n",
        "    def backward(self, y_predicted: np.array, x_train: np.array, y_train: np.array, outputs: List,\n",
        "                 *args) -> Tuple[List, List]:  \n",
        "        \n",
        "        x_train = np.reshape(x_train, [-1, 28*28])\n",
        "        \n",
        "        #Initialize a one hot vector for the true value of y\n",
        "        one_hot_vector = zero_initializer(y_predicted.shape)\n",
        "        for i in range(self.mini_batch_size):\n",
        "            one_hot_vector[i][y_train[i]] = 1          \n",
        "        \n",
        "        #Computing all the gradients\n",
        "        grad_output_pre = -(one_hot_vector.T - y_predicted.T)        \n",
        "        grad_h2 = np.matmul(self.weights[2], grad_output_pre)        \n",
        "        grad_W3 = np.matmul(grad_output_pre, outputs[-2]).T\n",
        "        grad_B3 = np.sum(grad_output_pre, axis=1)        \n",
        "        deriv_h2_act = self.derivate_activation(outputs[-2].T)      \n",
        "        \n",
        "        grad_h2_pre = np.multiply(grad_h2, deriv_h2_act)        \n",
        "        grad_h1 = np.matmul(self.weights[1], grad_h2_pre)        \n",
        "        grad_W2 = np.matmul(grad_h2_pre, outputs[-3]).T        \n",
        "        grad_B2 = np.sum(grad_h2_pre, axis=1)   \n",
        "        deriv_h1_act = self.derivate_activation(outputs[-3].T)        \n",
        "        \n",
        "        grad_h1_pre = np.multiply(grad_h1, deriv_h1_act)        \n",
        "        grad_W1 = np.matmul(grad_h1_pre, x_train).T        \n",
        "        grad_B1 = np.sum(grad_h1_pre, axis=1)   \n",
        "        \n",
        "        #Put the weights and biases gradients in a list\n",
        "        grad_weights = [grad_W1, grad_W2, grad_W3]\n",
        "        grad_biases = [grad_B1, grad_B2, grad_B3]\n",
        "        \n",
        "        return grad_weights, grad_biases\n",
        "\n",
        "\n",
        "    def update(self, grad_weights: List[np.array], grad_biases: List[np.array], *args) -> None:\n",
        "        \"\"\"Update the value of our weights and biases with their gradients and L2 regulatization\"\"\"\n",
        "        for i in range(self.n_hidden + 1): \n",
        "            \n",
        "            grad_l2_reg = self.regularization*self.weights[i]\n",
        "            self.weights[i] -= self.learning_rate * (grad_weights[i] + grad_l2_reg)\n",
        "            self.biases[i] -= self.learning_rate * grad_biases[i]\n",
        "      \n",
        "  \n",
        "    def train(self, number_data:int) -> float:\n",
        "        \"\"\"Train the NN using mini-batch SGD and return the average loss\"\"\"\n",
        "        cumulative_loss = 0\n",
        "        for i in range(0, number_data, self.mini_batch_size):\n",
        "            \n",
        "            x_train_mini_batch = x_train[i:i+self.mini_batch_size]\n",
        "            y_train_mini_batch = y_train[i:i+self.mini_batch_size]\n",
        "            \n",
        "            outputs = self.forward(x_train_mini_batch)\n",
        "            \n",
        "            y_predicted = outputs[-1]\n",
        "            \n",
        "            #Get the loss of the minibatch and add it to the cumulative loss\n",
        "            loss = self.loss_minibatch(y_predicted, y_train_mini_batch)\n",
        "            cumulative_loss += np.sum(loss)\n",
        "            \n",
        "            #Perform the backward propagation with the y's predicted\n",
        "            grad_weights_mini_batch, grad_biases_mini_batch = self.backward(y_predicted, x_train_mini_batch, y_train_mini_batch, outputs)\n",
        "            \n",
        "            #Get the average of the total gradients for the batch\n",
        "            grad_weights = [\n",
        "                w / self.mini_batch_size for w in grad_weights_mini_batch\n",
        "            ]\n",
        "            grad_biases = [\n",
        "                w / self.mini_batch_size for w in grad_biases_mini_batch\n",
        "            ]            \n",
        "            #The mini-batch is completed, update the weights\n",
        "            self.update(grad_weights, grad_biases)\n",
        "        \n",
        "        average_loss = cumulative_loss/number_data\n",
        "        return average_loss\n",
        "\n",
        "    def test(self, number_test: int) -> Tuple[float, float]:\n",
        "        \"\"\"Run a forward pass through the entire test set, and return the overall accuracy and average loss.\"\"\"\n",
        "        success = 0\n",
        "        cumulative_loss = 0\n",
        "        for x, y_true in islice(zip(x_test, y_test), number_test):\n",
        "            outputs = self.forward(x)\n",
        "            y = outputs[-1]\n",
        "            cumulative_loss += self.loss(y.flatten(), y_true)\n",
        "            \n",
        "            if(np.argmax(y) == y_true):\n",
        "                success +=1\n",
        "          \n",
        "        accuracy = (success / number_test)\n",
        "        average_loss = cumulative_loss/number_test\n",
        "        \n",
        "        return accuracy, average_loss\n",
        "    \n",
        "    def number_of_parameters(self) -> int:\n",
        "        return sum([np.prod(w.shape) for w in self.weights] +\n",
        "                   [np.prod(b.shape) for b in self.biases])"
      ],
      "execution_count": 0,
      "outputs": []
    },
    {
      "metadata": {
        "id": "WKr1icca6kjl",
        "colab_type": "text"
      },
      "cell_type": "markdown",
      "source": [
        "## Training Method\n"
      ]
    },
    {
      "metadata": {
        "id": "tYI1_mLG5TGp",
        "colab_type": "code",
        "colab": {}
      },
      "cell_type": "code",
      "source": [
        "def evaluate_parameters(hidden_dims=(500, 400), mini_batch_size=32, regularization=0.0, learning_rate=0.01, \n",
        "                        learning_rate_decay=1.0, initializer = glorot_initializer, activation_mode = RELU,\n",
        "                        number_epochs = 10, number_data = 60000, accuracy_threshold = 0) -> NN:\n",
        "    nn = NN(\n",
        "        hidden_dims=hidden_dims,\n",
        "        mini_batch_size=mini_batch_size,\n",
        "        regularization=regularization,\n",
        "        learning_rate=learning_rate,\n",
        "        initializer = initializer,\n",
        "        activation_mode = activation_mode,\n",
        "    )\n",
        "    print(\"Hyperparameters:\\t\" +\n",
        "          f\"hidden_dims: {hidden_dims}\\t\" +\n",
        "          f\"mini_batch_size: {mini_batch_size}\\t\" +\n",
        "          f\"regularization: {regularization}\\t\" +\n",
        "          f\"learning_rate: {learning_rate}\\t\" +\n",
        "          f\"learning_rate_decay: {learning_rate_decay}\\t\" +\n",
        "          f\"Initialization method: {nn.initializer.__name__}\\t\"+\n",
        "          f\"Activation: {nn.activation_mode}\")\n",
        "    \n",
        "    number_of_parameters = nn.number_of_parameters()\n",
        "    print(f\"number of trainable parameters:{number_of_parameters}\")\n",
        "    \n",
        "    #Train data\n",
        "    loss_training_list = []\n",
        "    accuracy = 0\n",
        "    number_data = number_data - number_data % nn.mini_batch_size\n",
        "    for epoch in range(1, number_epochs+1):\n",
        "        #Train the NN with the training data\n",
        "        loss_training = nn.train(number_data)\n",
        "        loss_training_list.append(loss_training)\n",
        "        \n",
        "        #Validate the NN with the test data\n",
        "        number_test = 10000\n",
        "        accuracy, loss_test = nn.test(number_test)\n",
        "        nn.accuracy = accuracy\n",
        "        \n",
        "        print(f\"Epoch: {epoch}, Learning Rate: {nn.learning_rate:1.2e}, Training Loss:{loss_training:.3}, Test Loss:{loss_test:.3}, Test Accuracy: {accuracy:2.2%}\")\n",
        "        nn.learning_rate *= learning_rate_decay\n",
        "        \n",
        "        #Early stop the training when accuracy is too low, to make hyper-parameter search faster\n",
        "        if accuracy < accuracy_threshold:\n",
        "          print(\"Early stop accuracy too low\")\n",
        "          print(\"---------------------------------------------------------------------------------------------\")\n",
        "          return nn\n",
        "    \n",
        "    #print(f\"\\nInitialization method: {nn.initializer.__name__} \\nInitialization method: {nn.activation_mode} \\nTraining Losses: {loss_training_list}\")\n",
        "    print(\"---------------------------------------------------------------------------------------------\")\n",
        "    return nn\n"
      ],
      "execution_count": 0,
      "outputs": []
    },
    {
      "metadata": {
        "id": "jyVBr3HXIq2W",
        "colab_type": "code",
        "colab": {}
      },
      "cell_type": "code",
      "source": [
        "def test_model_on_image(nn, example: np.array = None, label: int = None):\n",
        "    i = np.random.randint(1, 10000)\n",
        "    image = example if example is not None else x_test[i]\n",
        "    label = label if label is not None else y_test[i]\n",
        "    plt.imshow(image)\n",
        "    plt.show()\n",
        "    output = nn.forward(image)[-1]\n",
        "    print(\"Model Outputs:\", [f\"{o:1.2e}\" for o in output[0]])\n",
        "    print(\"True label: \", label, \"predicted label:\", np.argmax(output))"
      ],
      "execution_count": 0,
      "outputs": []
    },
    {
      "metadata": {
        "id": "P__UHNAJsaB1",
        "colab_type": "text"
      },
      "cell_type": "markdown",
      "source": [
        "## Model Training\n"
      ]
    },
    {
      "metadata": {
        "id": "DewaijamtxU9",
        "colab_type": "code",
        "outputId": "f0e276a4-d0a2-4922-8f00-482735ae79b2",
        "colab": {
          "base_uri": "https://localhost:8080/",
          "height": 315
        }
      },
      "cell_type": "code",
      "source": [
        "#@title Hyper-Parameter Settings\n",
        "h1 = 500 #@param {type:\"integer\"}\n",
        "h2 = 400 #@param {type:\"integer\"}\n",
        "mini_batch_size = 32 #@param {type:\"integer\"}\n",
        "learning_rate = 0.003 #@param {type:\"slider\", min:0, max:0.03, step:0.0005}\n",
        "learning_rate_decay = 0.9 #@param {type:\"slider\", min:0.1, max:1, step:0.05}\n",
        "regularization = 0 #@param {type:\"number\"}\n",
        "nn = evaluate_parameters(\n",
        "    hidden_dims = (h1, h2),\n",
        "    mini_batch_size=mini_batch_size,\n",
        "    regularization=regularization,\n",
        "    learning_rate=learning_rate,\n",
        "    learning_rate_decay=learning_rate_decay,\n",
        "    initializer=glorot_initializer,\n",
        "    activation_mode=RELU,\n",
        ")\n",
        "weights_backup = [\n",
        "    np.copy(w) for w in nn.weights\n",
        "]\n",
        "biases_backup = [\n",
        "    np.copy(b) for b in nn.biases\n",
        "]\n"
      ],
      "execution_count": 0,
      "outputs": [
        {
          "output_type": "stream",
          "text": [
            "Hyperparameters:\thidden_dims: (500, 400)\tmini_batch_size: 32\tregularization: 0\tlearning_rate: 0.003\tlearning_rate_decay: 0.9\tInitialization method: glorot_initializer\tActivation: RELU\n",
            "number of trainable parameters:596910\n",
            "Epoch: 1, Learning Rate: 3.00e-03, Training Loss:0.224, Test Loss:0.123, Test Accuracy: 96.16%\n",
            "Epoch: 2, Learning Rate: 2.70e-03, Training Loss:0.0838, Test Loss:0.0876, Test Accuracy: 97.40%\n",
            "Epoch: 3, Learning Rate: 2.43e-03, Training Loss:0.0522, Test Loss:0.0743, Test Accuracy: 97.65%\n",
            "Epoch: 4, Learning Rate: 2.19e-03, Training Loss:0.0347, Test Loss:0.0679, Test Accuracy: 97.85%\n",
            "Epoch: 5, Learning Rate: 1.97e-03, Training Loss:0.0235, Test Loss:0.064, Test Accuracy: 97.90%\n",
            "Epoch: 6, Learning Rate: 1.77e-03, Training Loss:0.0162, Test Loss:0.0641, Test Accuracy: 97.93%\n",
            "Epoch: 7, Learning Rate: 1.59e-03, Training Loss:0.0115, Test Loss:0.0638, Test Accuracy: 97.92%\n",
            "Epoch: 8, Learning Rate: 1.43e-03, Training Loss:0.00843, Test Loss:0.0634, Test Accuracy: 98.00%\n",
            "Epoch: 9, Learning Rate: 1.29e-03, Training Loss:0.00646, Test Loss:0.0623, Test Accuracy: 98.09%\n",
            "Epoch: 10, Learning Rate: 1.16e-03, Training Loss:0.00512, Test Loss:0.0619, Test Accuracy: 98.15%\n",
            "\n",
            "Initialization method: glorot_initializer \n",
            "Training Losses: [0.22402124119920347, 0.08383521415710223, 0.0521713659045494, 0.03470517494220164, 0.023519775401863306, 0.016184325549915047, 0.011488241995680824, 0.008426967050845962, 0.00645780564785158, 0.005124394405897]\n",
            "\n"
          ],
          "name": "stdout"
        }
      ]
    },
    {
      "metadata": {
        "id": "nUmdHSK76q2O",
        "colab_type": "text"
      },
      "cell_type": "markdown",
      "source": [
        "## Validate Gradients using Finite Difference"
      ]
    },
    {
      "metadata": {
        "id": "bHtQhLgg97fo",
        "colab_type": "text"
      },
      "cell_type": "markdown",
      "source": [
        "### Finite Gradients Function:"
      ]
    },
    {
      "metadata": {
        "id": "gG2eWrv1L13k",
        "colab_type": "code",
        "colab": {}
      },
      "cell_type": "code",
      "source": [
        "\n",
        "def finite_gradients(model: NN, train_example_index: int = None, num_ns=5):\n",
        "    def random_ns(count) -> List[int]:\n",
        "        \"\"\"Returns a list of random values for the 'N' variable.\"\"\"\n",
        "        def random_n() -> int:\n",
        "            k = np.random.randint(0,2) * 4 + 1 # random between (1,5)\n",
        "            i = np.random.randint(5)\n",
        "            n = k * 10 ** i\n",
        "            return n\n",
        "        unique_ns = list(set(random_n() for n in range(100)))\n",
        "        np.random.shuffle(unique_ns)\n",
        "        return sorted(unique_ns[:count])\n",
        "\n",
        "    i = train_example_index if train_example_index is not None else np.random.randint(0, 60000)\n",
        "    print(f\"Using training Example #{i}\")\n",
        "    example, label = x_train[i], y_train[i]\n",
        "    test_model_on_image(model, example=example, label=label)\n",
        "\n",
        "    ns = random_ns(num_ns)\n",
        "    print(\"N's:\", ns)\n",
        "    epsilons = [1 / n for n in ns]\n",
        "    print(\"Epsilons:\", epsilons)\n",
        "    \n",
        "    original_weights = model.weights\n",
        "    w1 = original_weights[0]\n",
        "    \n",
        "    # pretty much always equal to 10, (from the question definition)\n",
        "    p = min(10, w1.shape[0])\n",
        "    \n",
        "    def loss_with_changed_weight(i, epsilon: float, index_of_layer_to_change=1):\n",
        "        \"\"\"\n",
        "        Changes the 'i'th row weights of the layer at index 'index_of_layer_to_change' in 'model', and returns the loss.\n",
        "        NOTE: we perturb the SECOND layer now. (as described on Slack, the assignment instructions are supposed to get changed)\n",
        "        \"\"\"\n",
        "        weight = model.weights[index_of_layer_to_change]\n",
        "        backup = np.copy(weight)\n",
        "                \n",
        "        weight[i] += epsilon\n",
        "        \n",
        "        # make sure that we indeed changed the weight inside the model (remove after debugging)\n",
        "        assert all(w_new == w_old + epsilon for (w_new, w_old) in zip(model.weights[index_of_layer_to_change][i], backup[i]))\n",
        "        \n",
        "        outputs = model.forward(example)\n",
        "        pred = outputs[-1][0]\n",
        "        \n",
        "        loss = NN.loss(pred, label)\n",
        "        \n",
        "        # reset the weights to their original value.\n",
        "        model.weights[index_of_layer_to_change] = backup\n",
        "        \n",
        "        \n",
        "        return loss\n",
        "    \n",
        "    results = {}\n",
        "    for n, epsilon in zip(ns, epsilons):\n",
        "#         print(f\"N: {n}, Epsilon: {epsilon:1.0e}\")\n",
        "        \n",
        "# #         expanded for-loop, used for debugging.\n",
        "#         finite_differences = []\n",
        "#         for i in range(p):\n",
        "#             loss_plus  = loss_with_changed_weight(i, +epsilon)\n",
        "#             loss_minus = loss_with_changed_weight(i, -epsilon)\n",
        "#             diff = loss_plus - loss_minus\n",
        "#             result = diff / (2 * epsilon)\n",
        "#             finite_differences.append(result)\n",
        "#             print(loss_plus)\n",
        "#             print(loss_minus)\n",
        "#             print(diff)\n",
        "#             print(result)\n",
        "#             break\n",
        "        \n",
        "        finite_differences = [\n",
        "                (loss_with_changed_weight(i, +epsilon) - loss_with_changed_weight(i, -epsilon)) / (2*epsilon) for i in range(p)\n",
        "        ]\n",
        "        results[n] = finite_differences\n",
        "\n",
        "    n_maxdifs = {\n",
        "        n: np.max(np.abs(diffs)) for n, diffs in results.items()\n",
        "    }\n",
        "    n_s = []\n",
        "    diffs = []\n",
        "    for n, diff in sorted(n_maxdifs.items()):\n",
        "        n_s.append(n)\n",
        "        diffs.append(diff)\n",
        "\n",
        "    plt.loglog(n_s, diffs)\n",
        "    plt.title(\"Maximum absolute finite difference vs N\")\n",
        "    plt.xlabel(\"N (log scale)\")\n",
        "    plt.ylabel(\"Maximum absolute finite difference (log scale)\")\n",
        "    plt.grid(True)\n",
        "   "
      ],
      "execution_count": 0,
      "outputs": []
    },
    {
      "metadata": {
        "id": "LoU4areD-XBh",
        "colab_type": "text"
      },
      "cell_type": "markdown",
      "source": [
        "### Maximum Finite Difference vs N:\n",
        "\n",
        "\n",
        "One issue that often arises is that the finite difference vector is zero. This is often due to the input image having zero entries in the first few pixels, which in turn makes the difference in the weight irrelevant, as it gets multiplied with a zero-input anyway.\n",
        "\n",
        "As we can see below, the maximum absolute finite difference appears to be somewhat inversely proportional to the choice of N: As N grows the finite difference gradient approximation seems to get more accurate and its value gets closer to the true gradient. However, this relationship seems to be very dependant on the particular choice of input."
      ]
    },
    {
      "metadata": {
        "id": "RyjuScXv-GIc",
        "colab_type": "code",
        "outputId": "2d4a5435-a7ee-474e-8952-1c032d9950c1",
        "colab": {
          "base_uri": "https://localhost:8080/",
          "height": 797
        }
      },
      "cell_type": "code",
      "source": [
        "# example 45919 has a non-zero finite difference.\n",
        "hand_picked_index = 45919\n",
        "\n",
        "finite_gradients(nn, train_example_index=hand_picked_index, num_ns=10)\n"
      ],
      "execution_count": 0,
      "outputs": [
        {
          "output_type": "stream",
          "text": [
            "Using training Example #45919\n"
          ],
          "name": "stdout"
        },
        {
          "output_type": "display_data",
          "data": {
            "image/png": "[encoded data removed]",
            "text/plain": [
              "<Figure size 576x396 with 1 Axes>"
            ]
          },
          "metadata": {
            "tags": []
          }
        },
        {
          "output_type": "stream",
          "text": [
            "Model Outputs: ['2.16e-09', '1.83e-11', '5.83e-12', '4.33e-04', '3.40e-15', '1.00e+00', '9.15e-13', '7.67e-11', '2.19e-10', '1.69e-06']\n",
            "True label:  5 predicted label: 5\n",
            "N's: [1, 5, 10, 50, 100, 500, 1000, 5000, 10000, 50000]\n",
            "Epsilons: [1.0, 0.2, 0.1, 0.02, 0.01, 0.002, 0.001, 0.0002, 0.0001, 2e-05]\n"
          ],
          "name": "stdout"
        },
        {
          "output_type": "display_data",
          "data": {
            "image/png": "[encoded data removed]",
            "text/plain": [
              "<Figure size 576x396 with 1 Axes>"
            ]
          },
          "metadata": {
            "tags": []
          }
        }
      ]
    },
    {
      "metadata": {
        "id": "kgHtvln3LNTU",
        "colab_type": "code",
        "outputId": "ec354f39-bd84-4a20-e94e-44425d1d78df",
        "colab": {
          "base_uri": "https://localhost:8080/",
          "height": 797
        }
      },
      "cell_type": "code",
      "source": [
        "finite_gradients(nn, num_ns=10)\n"
      ],
      "execution_count": 0,
      "outputs": [
        {
          "output_type": "stream",
          "text": [
            "Using training Example #14283\n"
          ],
          "name": "stdout"
        },
        {
          "output_type": "display_data",
          "data": {
            "image/png": "[encoded data removed]",
            "text/plain": [
              "<Figure size 576x396 with 1 Axes>"
            ]
          },
          "metadata": {
            "tags": []
          }
        },
        {
          "output_type": "stream",
          "text": [
            "Model Outputs: ['6.96e-14', '1.12e-12', '1.31e-08', '1.00e+00', '5.08e-19', '4.54e-13', '1.67e-17', '4.53e-10', '8.62e-07', '3.69e-12']\n",
            "True label:  3 predicted label: 3\n",
            "N's: [1, 5, 10, 50, 100, 500, 1000, 5000, 10000, 50000]\n",
            "Epsilons: [1.0, 0.2, 0.1, 0.02, 0.01, 0.002, 0.001, 0.0002, 0.0001, 2e-05]\n"
          ],
          "name": "stdout"
        },
        {
          "output_type": "display_data",
          "data": {
            "image/png": "[encoded data removed]",
            "text/plain": [
              "<Figure size 576x396 with 1 Axes>"
            ]
          },
          "metadata": {
            "tags": []
          }
        }
      ]
    },
    {
      "metadata": {
        "id": "1YzDU_ses-qL",
        "colab_type": "text"
      },
      "cell_type": "markdown",
      "source": [
        "# Initialization\n",
        "\n",
        "For this sub-question, we used 500 hidden units for the first layer and 400 for the second hidden layer. This would give us a total number for the parameters of 596,910 units. We tried 3 nonlinearities (Relu, Sigmoid and Tanh) for the neuron activation and the learning rate was 0.01. Lastly, the mini-batch size was of 32 and the weight decay (regularization) was 0. We chose these values to test the different initialization method as we knew they procurred a good accuracy (over 98% at its best) and the time needed to run 10 epochs of the entire training data was relatively small."
      ]
    },
    {
      "metadata": {
        "id": "VSFtApXSnvTR",
        "colab_type": "code",
        "outputId": "8a027a04-7321-468c-dae9-dfe6da67daea",
        "colab": {
          "base_uri": "https://localhost:8080/",
          "height": 1359
        }
      },
      "cell_type": "code",
      "source": [
        "#@title Hyper-Parameter Settings\n",
        "h1 = 500 #@param {type:\"integer\"}\n",
        "h2 = 400 #@param {type:\"integer\"}\n",
        "mini_batch_size = 32 #@param {type:\"integer\"}\n",
        "learning_rate = 0.01 #@param {type:\"slider\", min:0, max:0.03, step:0.0005}\n",
        "learning_rate_decay = 0.9 #@param {type:\"slider\", min:0.1, max:1, step:0.05}\n",
        "regularization = 0 #@param {type:\"number\"}\n",
        "\n",
        "list_activations = [RELU, TANH, SIGMOID]\n",
        "list_initializer = [zero_initializer, normal_initializer, glorot_initializer]\n",
        "\n",
        "for activation in list_activations:\n",
        "    for initializer in list_initializer:\n",
        "        nn = evaluate_parameters(\n",
        "            hidden_dims = (h1, h2),\n",
        "            mini_batch_size=mini_batch_size,\n",
        "            regularization=regularization,\n",
        "            learning_rate=learning_rate,\n",
        "            learning_rate_decay=learning_rate_decay,\n",
        "            initializer = initializer,\n",
        "            activation_mode = activation\n",
        "        )"
      ],
      "execution_count": 0,
      "outputs": [
        {
          "output_type": "stream",
          "text": [
            "Hyperparameters:\thidden_dims: (500, 400)\tmini_batch_size: 32\tregularization: 0\tlearning_rate: 0.01\tlearning_rate_decay: 0.9\tInitialization method: zero_initializer\tActivation: RELU\n",
            "number of trainable parameters:596910\n",
            "\n",
            "Initialization method: zero_initializer \n",
            "Initialization method: RELU \n",
            "Training Losses: [2.3016506718936625, 2.3012729826651426, 2.3012493066120383, 2.301239942586525, 2.3012324421182724, 2.301225720671019, 2.3012195890319136, 2.3012139821137114, 2.301208858405599, 2.301204182282681]\n",
            "---------------------------------------------------------------------------------------------\n",
            "\n",
            "Hyperparameters:\thidden_dims: (500, 400)\tmini_batch_size: 32\tregularization: 0\tlearning_rate: 0.01\tlearning_rate_decay: 0.9\tInitialization method: normal_initializer\tActivation: RELU\n",
            "number of trainable parameters:596910\n"
          ],
          "name": "stdout"
        },
        {
          "output_type": "stream",
          "text": [
            "/usr/local/lib/python3.6/dist-packages/ipykernel_launcher.py:140: RuntimeWarning: divide by zero encountered in log\n"
          ],
          "name": "stderr"
        },
        {
          "output_type": "stream",
          "text": [
            "\n",
            "Initialization method: normal_initializer \n",
            "Initialization method: RELU \n",
            "Training Losses: [inf, 2.301268057836486, 2.301248699017619, 2.301239827403288, 2.3012324147229126, 2.3012257129966436, 2.301219586571856, 2.3012139812281758, 2.3012088580528096, 2.3012041821289855]\n",
            "---------------------------------------------------------------------------------------------\n",
            "\n",
            "Hyperparameters:\thidden_dims: (500, 400)\tmini_batch_size: 32\tregularization: 0\tlearning_rate: 0.01\tlearning_rate_decay: 0.9\tInitialization method: glorot_initializer\tActivation: RELU\n",
            "number of trainable parameters:596910\n",
            "\n",
            "Initialization method: glorot_initializer \n",
            "Initialization method: RELU \n",
            "Training Losses: [0.23186421269047516, 0.08357440543688491, 0.04939615600989196, 0.0310318662818469, 0.020281757221024817, 0.012731723371254399, 0.008831049285217617, 0.004958039986742518, 0.002672194912679811, 0.0017013316728679217]\n",
            "---------------------------------------------------------------------------------------------\n",
            "\n",
            "Hyperparameters:\thidden_dims: (500, 400)\tmini_batch_size: 32\tregularization: 0\tlearning_rate: 0.01\tlearning_rate_decay: 0.9\tInitialization method: zero_initializer\tActivation: TANH\n",
            "number of trainable parameters:596910\n",
            "\n",
            "Initialization method: zero_initializer \n",
            "Initialization method: TANH \n",
            "Training Losses: [2.3016506718936625, 2.3012729826651426, 2.3012493066120383, 2.301239942586525, 2.3012324421182724, 2.301225720671019, 2.3012195890319136, 2.3012139821137114, 2.301208858405599, 2.301204182282681]\n",
            "---------------------------------------------------------------------------------------------\n",
            "\n",
            "Hyperparameters:\thidden_dims: (500, 400)\tmini_batch_size: 32\tregularization: 0\tlearning_rate: 0.01\tlearning_rate_decay: 0.9\tInitialization method: normal_initializer\tActivation: TANH\n",
            "number of trainable parameters:596910\n",
            "\n",
            "Initialization method: normal_initializer \n",
            "Initialization method: TANH \n",
            "Training Losses: [3.9072577078965933, 2.094063789015134, 1.8219032847883172, 1.7050504193250635, 1.5543240676426955, 1.4430821842183676, 1.3943942228239685, 1.338996500574805, 1.3387628708474015, 1.2781238180962222]\n",
            "---------------------------------------------------------------------------------------------\n",
            "\n",
            "Hyperparameters:\thidden_dims: (500, 400)\tmini_batch_size: 32\tregularization: 0\tlearning_rate: 0.01\tlearning_rate_decay: 0.9\tInitialization method: glorot_initializer\tActivation: TANH\n",
            "number of trainable parameters:596910\n",
            "\n",
            "Initialization method: glorot_initializer \n",
            "Initialization method: TANH \n",
            "Training Losses: [0.4001519432592109, 0.27469128330701453, 0.25878920415089496, 0.24888441268046615, 0.24307463780424649, 0.2404764598658431, 0.23961035063265357, 0.23809693535480161, 0.2380441353493448, 0.23896052596473552]\n",
            "---------------------------------------------------------------------------------------------\n",
            "\n",
            "Hyperparameters:\thidden_dims: (500, 400)\tmini_batch_size: 32\tregularization: 0\tlearning_rate: 0.01\tlearning_rate_decay: 0.9\tInitialization method: zero_initializer\tActivation: SIGMOID\n",
            "number of trainable parameters:596910\n",
            "\n",
            "Initialization method: zero_initializer \n",
            "Initialization method: SIGMOID \n",
            "Training Losses: [2.3088215588978946, 2.29447482521255, 2.1232423565653717, 2.0176372686523534, 1.999729723040694, 1.991989891936257, 1.987438310943416, 1.9835861371817831, 1.9795515453657895, 1.970971890473018]\n",
            "---------------------------------------------------------------------------------------------\n",
            "\n",
            "Hyperparameters:\thidden_dims: (500, 400)\tmini_batch_size: 32\tregularization: 0\tlearning_rate: 0.01\tlearning_rate_decay: 0.9\tInitialization method: normal_initializer\tActivation: SIGMOID\n",
            "number of trainable parameters:596910\n"
          ],
          "name": "stdout"
        },
        {
          "output_type": "stream",
          "text": [
            "/usr/local/lib/python3.6/dist-packages/ipykernel_launcher.py:86: RuntimeWarning: overflow encountered in exp\n"
          ],
          "name": "stderr"
        },
        {
          "output_type": "stream",
          "text": [
            "\n",
            "Initialization method: normal_initializer \n",
            "Initialization method: SIGMOID \n",
            "Training Losses: [4.555646697952143, 2.0003115361535673, 1.5198531457338031, 1.3017719260788085, 1.1638549117703143, 1.0632283550137274, 0.9930880148736925, 0.9469489476873355, 0.9052384199727739, 0.865309742471509]\n",
            "---------------------------------------------------------------------------------------------\n",
            "\n",
            "Hyperparameters:\thidden_dims: (500, 400)\tmini_batch_size: 32\tregularization: 0\tlearning_rate: 0.01\tlearning_rate_decay: 0.9\tInitialization method: glorot_initializer\tActivation: SIGMOID\n",
            "number of trainable parameters:596910\n",
            "\n",
            "Initialization method: glorot_initializer \n",
            "Initialization method: SIGMOID \n",
            "Training Losses: [1.1622960385659522, 0.3690367685303147, 0.2704591840562515, 0.22132644091631642, 0.18991322802965013, 0.16650441947182193, 0.14811367443888132, 0.13382673624401345, 0.12198967688523955, 0.11113356274647125]\n",
            "---------------------------------------------------------------------------------------------\n",
            "\n"
          ],
          "name": "stdout"
        }
      ]
    },
    {
      "metadata": {
        "id": "FOoc-Imz1N1K",
        "colab_type": "text"
      },
      "cell_type": "markdown",
      "source": [
        "## Comparison of Initialization Methods\n",
        "\n",
        "In the plots of the loss functions below, the Glorot initialization method with the ReLU activation function is the most efficient with the lowest average loss after 10 epochs of training.  "
      ]
    },
    {
      "metadata": {
        "id": "WjUgPxZoTDAY",
        "colab_type": "text"
      },
      "cell_type": "markdown",
      "source": [
        "### Zero Initialization\n",
        "\n",
        "Comparing the plots, the first thing that we noticed is that the zero initialization is the less efficient. With the ReLU and Tanh activations, the loss function does not get updated and the output is chosen at random. Despite a slight improvement, this initialization also holds poor result with the sigmoid activation. The problem is that when the weights are all initialized to zero, there is no symmetry-breaking and the weights either stay to zero or they are all updated with the same grandient. Thus, the weights keep the same value throughout the training which result in each output having the same probability regardless of the input. (This is why we would see a test accuracy of around 1/10 with the zero initialization)"
      ]
    },
    {
      "metadata": {
        "id": "NXwzfRupHX49",
        "colab_type": "text"
      },
      "cell_type": "markdown",
      "source": [
        "### Normal Initialization\n",
        "\n",
        "This leads us to our second observation, that the initialization following a normal distribution works decently for sigmoid and tanh. A random initialization breaks the symmetry problem that the zero-initialization faced. Consequently, the weights are updated at each step with different gradients and the output is predicted more accurately, except for the first epoch where the loss is larger since the function starts at a random point. However, some problems may arrive in the forward and back propagation when the weights are initialized at random. We notice that using the activation function ReLU. In the plot of the Cross Entropy Loss of ReLU, the loss function for the normal initialization is similar to the zero initialization. The normal initialization, unadjusted, works poorly with ReLU. Recall that ReLU = max(0, x), there is no upper bound to the value x can have when the weights grow to very large values. To avoid this problem, our softmax function is numerically stable – all the weights are shifted by their maximum value to avoid large exponents in the output layer like $e^{1000}$ which would create NaN numbers – however, instead of having NaN values at the output, some values may now vanish to 0 since all the exponents' value smaller than the max will now be negative and those too far from the maximum will tend to 0. Note that this is a design choice since dealing with zero values is easier than dealing with NaN values. \n",
        "\n",
        "This behavior is caused by the normal initialization having a distribution with mean 0 and variance 1. In other words, even though most weights will be between -1 and 1, a decent number of them will have values bigger than 1. This will create a problem, since each multiplication with the inputs and subsequent weight may cause the value to grow out of proportion, especially when using the ReLU activation which favor positive values. One solution would be to use very small learning rate, but this would impact the optimization of the loss function. We therefore need a weight initialization with values closer to 0. Another solution would then be to divide all the weights generated by the normal_initialization by a constant c where c is proportional to the number of hidden units. In fact, we tried this method with c > 100, which resolved most of these problems. \n",
        "\n"
      ]
    },
    {
      "metadata": {
        "id": "ByhfhS_bHYVt",
        "colab_type": "text"
      },
      "cell_type": "markdown",
      "source": [
        "### Glorot Initialization\n",
        "\n",
        "This solution is in fact very similar to glorot_initializer where the weights are chosen in function of the numbers of units in the current and previous layers, and it leads us to our last observation. When using the glorot initialization, we noticed that the loss is lower right from the beginning in all three activations functions: ReLU, Tanh and Sigmoid. In the 3 plots, the glorot initialization clearly outperforms the two other activation functions. Also, the fact that the weights are initialized to values closer to zero remove the problem of overflowing/fading in the softmax when using ReLU activation. The values of the weights stay very low even when we sum them to the gradient (as long as the learning rate is kept relatively low; under 0.01 depending on the number of hidden units).  From our final observations, it seems that the initialization of the weights with glorot makes it easier for the gradient to reduce the loss function and to reach the global minimum faster. Therefore, we can conclude that the glorot initialization is a very robust initialization method. "
      ]
    },
    {
      "metadata": {
        "id": "Wn2SMrzQXpph",
        "colab_type": "code",
        "outputId": "032da2ba-92ee-4f3c-f359-04d8b079a914",
        "colab": {
          "base_uri": "https://localhost:8080/",
          "height": 1094
        }
      },
      "cell_type": "code",
      "source": [
        "x = [i for i in range(1,11)]\n",
        "\n",
        "#TANH\n",
        "zero_loss = [2.3016506718936625, 2.3012729826651426, 2.3012493066120383, 2.301239942586525, 2.3012324421182724, 2.301225720671019, \n",
        "             2.3012195890319136, 2.3012139821137114, 2.301208858405599, 2.301204182282681]\n",
        "\n",
        "normal_loss = [3.9072577078965933, 2.094063789015134, 1.8219032847883172, 1.7050504193250635, 1.5543240676426955, 1.4430821842183676, \n",
        "               1.3943942228239685, 1.338996500574805, 1.3387628708474015, 1.2781238180962222]\n",
        "\n",
        "glorot_loss = [0.4001519432592109, 0.27469128330701453, 0.25878920415089496, 0.24888441268046615, 0.24307463780424649, 0.2404764598658431,\n",
        "               0.23961035063265357, 0.23809693535480161, 0.2380441353493448, 0.23896052596473552]\n",
        "\n",
        "plt.plot(x, zero_loss, 'r-.', x, normal_loss, 'b-.', x, glorot_loss, 'g-.')\n",
        "plt.title('Cross Entropy Loss with the TANH activation')\n",
        "plt.xlabel('# of Epoch')\n",
        "plt.ylabel('Average Loss')\n",
        "plt.text(s='zero', x = 8, y = zero_loss[7]+0.1)\n",
        "plt.text(s='normal', x = 8, y = normal_loss[8]+0.1)\n",
        "plt.text(s='glorot', x = 8, y = glorot_loss[9]+0.1)\n",
        "plt.show()\n",
        "\n",
        "#SIGMOID\n",
        "zero_loss = [2.3088215588978946, 2.29447482521255, 2.1232423565653717, 2.0176372686523534, 1.999729723040694, 1.991989891936257, \n",
        "             1.987438310943416, 1.9835861371817831, 1.9795515453657895, 1.970971890473018]\n",
        "\n",
        "normal_loss = [4.555646697952143, 2.0003115361535673, 1.5198531457338031, 1.3017719260788085, 1.1638549117703143, 1.0632283550137274, \n",
        "               0.9930880148736925, 0.9469489476873355, 0.9052384199727739, 0.865309742471509]\n",
        "\n",
        "glorot_loss = [1.1622960385659522, 0.3690367685303147, 0.2704591840562515, 0.22132644091631642, 0.18991322802965013, 0.16650441947182193, \n",
        "               0.14811367443888132, 0.13382673624401345, 0.12198967688523955, 0.11113356274647125]\n",
        "\n",
        "plt.plot(x, zero_loss, 'r-.', x, normal_loss, 'b-.', x, glorot_loss, 'g-.')\n",
        "plt.title('Cross Entropy Loss with the SIGMOID activation')\n",
        "plt.xlabel('# of Epoch')\n",
        "plt.ylabel('Average Loss')\n",
        "plt.text(s='zero', x = 8, y = zero_loss[7]+0.1)\n",
        "plt.text(s='normal', x = 8, y = normal_loss[8]+0.1)\n",
        "plt.text(s='glorot', x = 8, y = glorot_loss[9]+0.1)\n",
        "plt.show()\n",
        "\n",
        "#RELU\n",
        "zero_loss = [2.3016506718936625, 2.3012729826651426, 2.3012493066120383, 2.301239942586525, 2.3012324421182724, 2.301225720671019, \n",
        "             2.3012195890319136, 2.3012139821137114, 2.301208858405599, 2.301204182282681]\n",
        "\n",
        "normal_loss = [2.4, 2.301268057836486, 2.301248699017619, 2.301239827403288, 2.3012324147229126, 2.3012257129966436, 2.301219586571856, \n",
        "               2.3012139812281758, 2.3012088580528096, 2.3012041821289855]\n",
        "\n",
        "glorot_loss = [0.23186421269047516, 0.08357440543688491, 0.04939615600989196, 0.0310318662818469, 0.020281757221024817, 0.012731723371254399, \n",
        "               0.008831049285217617, 0.004958039986742518, 0.002672194912679811, 0.0017013316728679217]\n",
        "\n",
        "plt.plot(x, zero_loss, 'r-.', x, normal_loss, 'b-.', x, glorot_loss, 'g-.')\n",
        "plt.title('Cross Entropy Loss with the RELU activation')\n",
        "plt.xlabel('# of Epoch')\n",
        "plt.ylabel('Average Loss')\n",
        "plt.text(s='zero', x = 8, y = zero_loss[7]-0.1)\n",
        "plt.text(s='normal', x = 8, y = normal_loss[8]+0.1)\n",
        "plt.text(s='glorot', x = 8, y = glorot_loss[9]+0.1)\n",
        "plt.show()"
      ],
      "execution_count": 0,
      "outputs": [
        {
          "output_type": "display_data",
          "data": {
            "image/png": "[encoded data removed]",
            "text/plain": [
              "<Figure size 576x396 with 1 Axes>"
            ]
          },
          "metadata": {
            "tags": []
          }
        },
        {
          "output_type": "display_data",
          "data": {
            "image/png": "[encoded data removed]",
            "text/plain": [
              "<Figure size 576x396 with 1 Axes>"
            ]
          },
          "metadata": {
            "tags": []
          }
        },
        {
          "output_type": "display_data",
          "data": {
            "image/png": "[encoded data removed]",
            "text/plain": [
              "<Figure size 576x396 with 1 Axes>"
            ]
          },
          "metadata": {
            "tags": []
          }
        }
      ]
    },
    {
      "metadata": {
        "id": "Rz31kXvZ3Cta",
        "colab_type": "text"
      },
      "cell_type": "markdown",
      "source": [
        "# Hyperparameter Search\n",
        "\n",
        "There is an infinite number of hyperparameters we can try, therefore we will only mention the hyperparameters we thought were the most relevant. You can find an exhautive list of parameters combinations we ran in the code below.\n",
        "\n",
        "Although plenty of hyperparameters gave us results a little above $r^{(valid)} \\approx 98\\text{%}$ after 10 epochs of training, we chose the following hyperparameters based on both their accuracy and the time taken to train the model. "
      ]
    },
    {
      "metadata": {
        "id": "Yj0-P0vH2vd2",
        "colab_type": "text"
      },
      "cell_type": "markdown",
      "source": [
        "###Model Architecture\n",
        "\n",
        "\n",
        "* Input Layer: **784 Neurons**\n",
        "* First Hidden Layer ($h_1$): **500 Neurons**\n",
        "* Second Hidden Layer ($h_2$): **400 Neurons**\n",
        "* Output Layer: **10 Neurons**\n",
        "* Mini-Batch Size: **32**\n",
        "\n",
        "###Learning Rate\n",
        "\n",
        "* Learning rate: **0.01**\n",
        "* Learning rate decay: **0.9**\n",
        "* Weight decay (regularization): **0**\n",
        "\n",
        "###NonLinearity\n",
        "\n",
        "* Activation function: **Rectified Linear Units (ReLU)**\n",
        "\n",
        "\n",
        "\\\\\n",
        "\n",
        "---\n",
        "\\\\\n",
        "\n",
        "\n",
        "For the **Model Architecture**, the parameters above gave us one of the higher $r^{(valid)}$ with $ r^{(valid)} \\approx 98.20\\text{%}$.\n",
        "\n",
        "When searching for the right set of hyperparameters, we tried different combinations of number of hidden units for the first hidden layer ($h_1$) and the second hidden layer ($h_2$). Some of the sets we tried are the following:\n",
        "\n",
        "We tried combinations where the size of $h_1$ was bigger than the input layer, but this proved to be very long to train and the result would be similar or worst than using the $h_1$ we selected. For exemple, a value of $h_1 = 900$ with the other hyperparameters similar to the one listed above would give us $r^{(valid)} \\approx 97\\text{%}$, but take much more time to train.\n",
        "\n",
        "We also tried combinations where $h_2 > h_1$ such as having $h_1 = 300$ and $h_2 = 700$ but with results of $r^{(valid)} \\approx 95\\text{%}$, it did not seem as efficient as using $h_1 > h_2$ . Some other combinations we tried were $h_2$ close to the size of the output layer like $h_2 = 15$ or both $h_1$, $h_2$ very small. In those two cases, the results were not conclusive with $r^{(valid)} < 92\\text{%}$.\n",
        "\n",
        "In the end, using the values $200 < h_2 \\leq h_1 < 700$ the model seemed to work well with a $r^{(valid)} > 96\\text{%}$ and a decent training time.\n",
        "\n",
        "Concerning the **mini-batch size**, our MLP was programmed using mini-batch SGD since it is more efficient than using stochastic gradient descent. The batch sizes we found the most conclusive varied between $8 \\text{ and }32$, but when training for $10$ epochs all mini- batch sizes from $1 \\text{ to } 256$ gave a decent  $r^{(valid)}$. The differences were in the training time where mini-batch sizes of $1, 2 \\text{ and } 4$ took much longer to train and mini-batch sizes $> 256$ did not converge quite as fast toward the global minimum. We then chose as size of $32$ as it was a good mix between convergence and training time with a good  $r^{(valid)}$.\n",
        "\n",
        "\\\\\n",
        "\n",
        "\n",
        "---\n",
        "\n",
        "\n",
        "\n",
        "\n",
        "\\\\\n",
        "\n",
        "For the** learning rate**, we tried values from $1$ to $0.0001$. However, only values from $0.01$ to $0.003$ ended up being efficient. Bigger values like $1$ and $0.1$ would either cause the weights to grow too large or the gradients to overshoot the global minimum: the corresponding $r^{(valid)}$ would vary greatly from $10\\text{%}$ to $80\\text{%}$. Values under $0.001$ would be too small and the gradients, unless great luck, would be stuck in local minima with corresponding $r^{(valid)}$ varying between $80\\text{% and } 92\\text{%}$. Values between $0.01$ and $0.003$, depending on the mini-batch size, would produce a $r^{(valid)}$ ranging from  $95\\text{% and } 98\\text{%}$.\n",
        "\n",
        "The **learning rate decay** is an hyperparameter we added to decrease the learning rate of the gradients as the training progresses. The idea is for the MLP to learn with bigger steps at the beginning to get out of local minima and converge toward the global minimum, but after multiple epochs, it has to take smaller steps to avoid overshooting the global minimum. Values between $1$ (no decay) and $0.8$ would all produce at their best $r^{(valid)} > 98\\text{%}$. Therefore, while this parameter helps the model to learn more efficiently, it is not a crucial hyperparameter to this model.\n",
        "\n",
        "The regularization using a **weight decay** was implemented in the loss function and the gradients using the L2 regularization. We chose decay values of $0, 0.01 \\text{ and } 0.001$. From our tests, the best values for the weight decay was $0$ (no weight decay) and $0.001$. A weight decay of $0.01$ would reduce our optimal $r^{(valid)}$ by $2-3\\text{%}$. Weight decays bigger than that would suppress our gradients even more and produce poor results.\n",
        "\n",
        "\\\\\n",
        "\n",
        "\n",
        "---\n",
        "\n",
        "\n",
        "\n",
        "\\\\\n",
        "\n",
        "The **nonlinearity** chosen was the ReLU function. In the Comparison of Initialization Methods section, we mentioned that ReLU was the most effective activation. The corresponding $r^{(valid)}$ of the the three activations in order were; Tanh with a result of $91-92\\text{%}$; sigmoid with a result of $95-96\\text{%}$; and ReLU with a result of $97-98\\text{%}$.\n",
        "\n",
        "\\\\\n",
        "\n",
        "\n",
        "---\n",
        "\n",
        "\n"
      ]
    },
    {
      "metadata": {
        "id": "mL7NlO6rP7Rh",
        "colab_type": "text"
      },
      "cell_type": "markdown",
      "source": [
        "##Setup Code##"
      ]
    },
    {
      "metadata": {
        "id": "G_jwNCs0ZDek",
        "colab_type": "code",
        "colab": {}
      },
      "cell_type": "code",
      "source": [
        "from typing import Dict, Tuple, List, Iterable\n",
        "def train_function(epochs: int, number_data: int, accuracy_threshold: int, h1: int, h2: int, mini_batch_size: int, \n",
        "                   learning_rate: float, learning_rate_decay: float, regularization: float) -> Tuple[List, List, List]:\n",
        "    \"\"\"\n",
        "    Trains a model, and returns the model and the validation accuracy.\n",
        "    \"\"\"\n",
        "    \n",
        "    nn = evaluate_parameters(\n",
        "    hidden_dims = (h1, h2),\n",
        "    mini_batch_size=mini_batch_size,\n",
        "    regularization=regularization,\n",
        "    learning_rate=learning_rate,\n",
        "    learning_rate_decay=learning_rate_decay,\n",
        "    initializer = glorot_initializer,\n",
        "    activation_mode=RELU,\n",
        "    number_epochs=epochs,\n",
        "    number_data = number_data,\n",
        "    accuracy_threshold = accuracy_threshold\n",
        "    )\n",
        "    \n",
        "    return nn\n",
        "    \n",
        "\n",
        "def all_combinations_iterator(params: Dict[str, List]) -> Iterable:\n",
        "    \"\"\"taken from:\n",
        "    https://stackoverflow.com/questions/44887695/execute-function-on-all-possible-combinations-of-parameters\n",
        "    \"\"\"\n",
        "    import itertools\n",
        "    keys = list(params)\n",
        "    for values in itertools.product(*map(params.get, keys)):\n",
        "        yield dict(zip(keys, values)) \n",
        "\n",
        "def hyperparameter_search(hyperparameters: Dict[str, List], epochs_each = 3, data_each = 60000, accuracy_threshold = 0.90) -> Tuple[Tuple, NN, float]:\n",
        "    \"\"\"\n",
        "    Performs exhaustive parameter-search on the model with the given hyperparameters.\n",
        "    \"\"\"\n",
        "    results = {}\n",
        "    \n",
        "    best_accuracy = 0\n",
        "    best_model_index = -1\n",
        "    best_model = None\n",
        "    best_hyperparams = None\n",
        "    \n",
        "    hyperparameter_combinations = list(all_combinations_iterator(hyperparameters))\n",
        "    \n",
        "    for i in range(0,len(hyperparameter_combinations)):\n",
        "        hyperparams = hyperparameter_combinations[i]\n",
        "        m = train_function(epochs=epochs_each, number_data=data_each, accuracy_threshold = accuracy_threshold, **hyperparams)\n",
        "        accuracy = m.accuracy\n",
        "        results[tuple(hyperparams.items())] = (m, accuracy)\n",
        "        \n",
        "        if(i%10 == 0):\n",
        "            print(f\"We have done: {i} iterations\")\n",
        "        \n",
        "        if accuracy > best_accuracy:\n",
        "            print(\"This new combination yielded the current best model so far.\")\n",
        "            best_accuracy = accuracy\n",
        "            best_model = m\n",
        "            best_model_index = i\n",
        "            best_hyperparams = hyperparams\n",
        "            \n",
        "        yield (best_model_index, best_accuracy*100, best_hyperparams)\n"
      ],
      "execution_count": 0,
      "outputs": []
    },
    {
      "metadata": {
        "id": "9G4v0oqKOfW2",
        "colab_type": "text"
      },
      "cell_type": "markdown",
      "source": [
        "##Values Used##"
      ]
    },
    {
      "metadata": {
        "id": "q3WtizHTOdYX",
        "colab_type": "code",
        "outputId": "de017d89-a51f-41b1-fed0-f1e250a72f4b",
        "colab": {
          "base_uri": "https://localhost:8080/",
          "height": 35
        }
      },
      "cell_type": "code",
      "source": [
        "hyperparameters={\n",
        "    \"h1\" : [700, 500],\n",
        "    \"h2\" : [500, 400],\n",
        "    \"mini_batch_size\" : [8,16,32],\n",
        "    \"learning_rate\": [0.01, 0.003, 0.001],\n",
        "    \"learning_rate_decay\": [1, 0.9, 0.8],\n",
        "    \"regularization\":[0, 0.001, 0.01]\n",
        "}\n",
        "\n",
        "hyperparameter_combinations = list(all_combinations_iterator(hyperparameters))\n",
        "\n",
        "num_runs = len(hyperparameter_combinations)\n",
        "print(\"Total combinations: \", num_runs)\n",
        "    "
      ],
      "execution_count": 0,
      "outputs": [
        {
          "output_type": "stream",
          "text": [
            "Total combinations:  324\n"
          ],
          "name": "stdout"
        }
      ]
    },
    {
      "metadata": {
        "id": "iqXWtQbTqbXH",
        "colab_type": "text"
      },
      "cell_type": "markdown",
      "source": [
        "This is an example of what the hyperparameter search would produce (you can see the complete list in the log file). The total number of combinations we tried is around $275$ since each search would take a significant amount of time to complete."
      ]
    },
    {
      "metadata": {
        "id": "a95RmMZ_fJlL",
        "colab_type": "code",
        "outputId": "bc0d66ab-ea52-4c4a-a9ff-fccc5cb9ce8f",
        "colab": {
          "base_uri": "https://localhost:8080/",
          "height": 3821
        }
      },
      "cell_type": "code",
      "source": [
        "for result in hyperparameter_search(hyperparameters, epochs_each=5, data_each=60000, accuracy_threshold = 0.94):\n",
        "    print(result,\"\\n\")"
      ],
      "execution_count": 0,
      "outputs": [
        {
          "output_type": "stream",
          "text": [
            "Hyperparameters:\thidden_dims: (700, 500)\tmini_batch_size: 16\tregularization: 0.01\tlearning_rate: 0.01\tlearning_rate_decay: 0.9\tInitialization method: glorot_initializer\tActivation: RELU\n",
            "number of trainable parameters:905010\n",
            "Epoch: 1, Learning Rate: 1.00e-02, Training Loss:0.347, Test Loss:0.279, Test Accuracy: 94.54%\n",
            "Epoch: 2, Learning Rate: 9.00e-03, Training Loss:0.228, Test Loss:0.24, Test Accuracy: 96.16%\n",
            "Epoch: 3, Learning Rate: 8.10e-03, Training Loss:0.19, Test Loss:0.209, Test Accuracy: 96.70%\n",
            "Epoch: 4, Learning Rate: 7.29e-03, Training Loss:0.167, Test Loss:0.226, Test Accuracy: 96.08%\n",
            "Epoch: 5, Learning Rate: 6.56e-03, Training Loss:0.146, Test Loss:0.183, Test Accuracy: 97.19%\n",
            "---------------------------------------------------------------------------------------------\n",
            "This new combination yielded the current best model so far.\n",
            "(32, 97.19, {'h1': 700, 'h2': 500, 'mini_batch_size': 16, 'learning_rate': 0.01, 'learning_rate_decay': 0.9, 'regularization': 0.01}) \n",
            "\n",
            "Hyperparameters:\thidden_dims: (700, 500)\tmini_batch_size: 16\tregularization: 0\tlearning_rate: 0.01\tlearning_rate_decay: 0.8\tInitialization method: glorot_initializer\tActivation: RELU\n",
            "number of trainable parameters:905010\n",
            "Epoch: 1, Learning Rate: 1.00e-02, Training Loss:0.256, Test Loss:0.18, Test Accuracy: 94.79%\n",
            "Epoch: 2, Learning Rate: 8.00e-03, Training Loss:0.0966, Test Loss:0.119, Test Accuracy: 96.55%\n",
            "Epoch: 3, Learning Rate: 6.40e-03, Training Loss:0.0526, Test Loss:0.0923, Test Accuracy: 97.45%\n",
            "Epoch: 4, Learning Rate: 5.12e-03, Training Loss:0.0295, Test Loss:0.0849, Test Accuracy: 97.80%\n",
            "Epoch: 5, Learning Rate: 4.10e-03, Training Loss:0.0153, Test Loss:0.0821, Test Accuracy: 98.07%\n",
            "---------------------------------------------------------------------------------------------\n",
            "This new combination yielded the current best model so far.\n",
            "(33, 98.07000000000001, {'h1': 700, 'h2': 500, 'mini_batch_size': 16, 'learning_rate': 0.01, 'learning_rate_decay': 0.8, 'regularization': 0}) \n",
            "\n",
            "Hyperparameters:\thidden_dims: (700, 500)\tmini_batch_size: 16\tregularization: 0.001\tlearning_rate: 0.01\tlearning_rate_decay: 0.8\tInitialization method: glorot_initializer\tActivation: RELU\n",
            "number of trainable parameters:905010\n",
            "Epoch: 1, Learning Rate: 1.00e-02, Training Loss:0.273, Test Loss:0.167, Test Accuracy: 95.62%\n",
            "Epoch: 2, Learning Rate: 8.00e-03, Training Loss:0.117, Test Loss:0.131, Test Accuracy: 96.84%\n",
            "Epoch: 3, Learning Rate: 6.40e-03, Training Loss:0.0759, Test Loss:0.118, Test Accuracy: 97.26%\n",
            "Epoch: 4, Learning Rate: 5.12e-03, Training Loss:0.0538, Test Loss:0.112, Test Accuracy: 97.50%\n",
            "Epoch: 5, Learning Rate: 4.10e-03, Training Loss:0.0404, Test Loss:0.0943, Test Accuracy: 98.07%\n",
            "---------------------------------------------------------------------------------------------\n",
            "(33, 98.07000000000001, {'h1': 700, 'h2': 500, 'mini_batch_size': 16, 'learning_rate': 0.01, 'learning_rate_decay': 0.8, 'regularization': 0}) \n",
            "\n",
            "Hyperparameters:\thidden_dims: (700, 500)\tmini_batch_size: 16\tregularization: 0.01\tlearning_rate: 0.01\tlearning_rate_decay: 0.8\tInitialization method: glorot_initializer\tActivation: RELU\n",
            "number of trainable parameters:905010\n",
            "Epoch: 1, Learning Rate: 1.00e-02, Training Loss:0.346, Test Loss:0.304, Test Accuracy: 93.89%\n",
            "Early stop accuracy too low\n",
            "---------------------------------------------------------------------------------------------\n",
            "(33, 98.07000000000001, {'h1': 700, 'h2': 500, 'mini_batch_size': 16, 'learning_rate': 0.01, 'learning_rate_decay': 0.8, 'regularization': 0}) \n",
            "\n",
            "Hyperparameters:\thidden_dims: (700, 500)\tmini_batch_size: 16\tregularization: 0\tlearning_rate: 0.003\tlearning_rate_decay: 1\tInitialization method: glorot_initializer\tActivation: RELU\n",
            "number of trainable parameters:905010\n",
            "Epoch: 1, Learning Rate: 3.00e-03, Training Loss:0.196, Test Loss:0.118, Test Accuracy: 96.44%\n",
            "Epoch: 2, Learning Rate: 3.00e-03, Training Loss:0.0769, Test Loss:0.0969, Test Accuracy: 97.12%\n",
            "Epoch: 3, Learning Rate: 3.00e-03, Training Loss:0.047, Test Loss:0.085, Test Accuracy: 97.65%\n",
            "Epoch: 4, Learning Rate: 3.00e-03, Training Loss:0.0322, Test Loss:0.0972, Test Accuracy: 97.23%\n",
            "Epoch: 5, Learning Rate: 3.00e-03, Training Loss:0.0229, Test Loss:0.0812, Test Accuracy: 97.87%\n",
            "---------------------------------------------------------------------------------------------\n",
            "(33, 98.07000000000001, {'h1': 700, 'h2': 500, 'mini_batch_size': 16, 'learning_rate': 0.01, 'learning_rate_decay': 0.8, 'regularization': 0}) \n",
            "\n",
            "Hyperparameters:\thidden_dims: (700, 500)\tmini_batch_size: 16\tregularization: 0.001\tlearning_rate: 0.003\tlearning_rate_decay: 1\tInitialization method: glorot_initializer\tActivation: RELU\n",
            "number of trainable parameters:905010\n",
            "Epoch: 1, Learning Rate: 3.00e-03, Training Loss:0.201, Test Loss:0.124, Test Accuracy: 96.14%\n",
            "Epoch: 2, Learning Rate: 3.00e-03, Training Loss:0.083, Test Loss:0.102, Test Accuracy: 97.22%\n",
            "Epoch: 3, Learning Rate: 3.00e-03, Training Loss:0.0555, Test Loss:0.0878, Test Accuracy: 97.48%\n",
            "Epoch: 4, Learning Rate: 3.00e-03, Training Loss:0.0403, Test Loss:0.0855, Test Accuracy: 97.82%\n",
            "Epoch: 5, Learning Rate: 3.00e-03, Training Loss:0.0352, Test Loss:0.0907, Test Accuracy: 97.66%\n",
            "---------------------------------------------------------------------------------------------\n",
            "(33, 98.07000000000001, {'h1': 700, 'h2': 500, 'mini_batch_size': 16, 'learning_rate': 0.01, 'learning_rate_decay': 0.8, 'regularization': 0}) \n",
            "\n",
            "Hyperparameters:\thidden_dims: (700, 500)\tmini_batch_size: 16\tregularization: 0.01\tlearning_rate: 0.003\tlearning_rate_decay: 1\tInitialization method: glorot_initializer\tActivation: RELU\n",
            "number of trainable parameters:905010\n",
            "Epoch: 1, Learning Rate: 3.00e-03, Training Loss:0.241, Test Loss:0.167, Test Accuracy: 96.22%\n",
            "Epoch: 2, Learning Rate: 3.00e-03, Training Loss:0.132, Test Loss:0.153, Test Accuracy: 97.00%\n",
            "Epoch: 3, Learning Rate: 3.00e-03, Training Loss:0.11, Test Loss:0.145, Test Accuracy: 97.48%\n",
            "Epoch: 4, Learning Rate: 3.00e-03, Training Loss:0.0954, Test Loss:0.14, Test Accuracy: 97.50%\n",
            "Epoch: 5, Learning Rate: 3.00e-03, Training Loss:0.0861, Test Loss:0.135, Test Accuracy: 97.71%\n",
            "---------------------------------------------------------------------------------------------\n",
            "(33, 98.07000000000001, {'h1': 700, 'h2': 500, 'mini_batch_size': 16, 'learning_rate': 0.01, 'learning_rate_decay': 0.8, 'regularization': 0}) \n",
            "\n",
            "Hyperparameters:\thidden_dims: (700, 500)\tmini_batch_size: 16\tregularization: 0\tlearning_rate: 0.003\tlearning_rate_decay: 0.9\tInitialization method: glorot_initializer\tActivation: RELU\n",
            "number of trainable parameters:905010\n",
            "Epoch: 1, Learning Rate: 3.00e-03, Training Loss:0.195, Test Loss:0.134, Test Accuracy: 95.78%\n",
            "Epoch: 2, Learning Rate: 2.70e-03, Training Loss:0.0729, Test Loss:0.0989, Test Accuracy: 97.12%\n",
            "Epoch: 3, Learning Rate: 2.43e-03, Training Loss:0.0423, Test Loss:0.0732, Test Accuracy: 97.83%\n",
            "Epoch: 4, Learning Rate: 2.19e-03, Training Loss:0.0251, Test Loss:0.079, Test Accuracy: 97.84%\n",
            "Epoch: 5, Learning Rate: 1.97e-03, Training Loss:0.0156, Test Loss:0.0678, Test Accuracy: 98.06%\n",
            "---------------------------------------------------------------------------------------------\n",
            "(33, 98.07000000000001, {'h1': 700, 'h2': 500, 'mini_batch_size': 16, 'learning_rate': 0.01, 'learning_rate_decay': 0.8, 'regularization': 0}) \n",
            "\n",
            "Hyperparameters:\thidden_dims: (700, 500)\tmini_batch_size: 16\tregularization: 0.001\tlearning_rate: 0.003\tlearning_rate_decay: 0.9\tInitialization method: glorot_initializer\tActivation: RELU\n",
            "number of trainable parameters:905010\n",
            "Epoch: 1, Learning Rate: 3.00e-03, Training Loss:0.201, Test Loss:0.128, Test Accuracy: 96.16%\n",
            "Epoch: 2, Learning Rate: 2.70e-03, Training Loss:0.0799, Test Loss:0.101, Test Accuracy: 97.16%\n",
            "Epoch: 3, Learning Rate: 2.43e-03, Training Loss:0.0491, Test Loss:0.0838, Test Accuracy: 97.74%\n",
            "Epoch: 4, Learning Rate: 2.19e-03, Training Loss:0.0336, Test Loss:0.0793, Test Accuracy: 97.99%\n",
            "Epoch: 5, Learning Rate: 1.97e-03, Training Loss:0.0233, Test Loss:0.0744, Test Accuracy: 98.04%\n",
            "---------------------------------------------------------------------------------------------\n",
            "(33, 98.07000000000001, {'h1': 700, 'h2': 500, 'mini_batch_size': 16, 'learning_rate': 0.01, 'learning_rate_decay': 0.8, 'regularization': 0}) \n",
            "\n",
            "Hyperparameters:\thidden_dims: (700, 500)\tmini_batch_size: 16\tregularization: 0.01\tlearning_rate: 0.003\tlearning_rate_decay: 0.9\tInitialization method: glorot_initializer\tActivation: RELU\n",
            "number of trainable parameters:905010\n",
            "Epoch: 1, Learning Rate: 3.00e-03, Training Loss:0.241, Test Loss:0.169, Test Accuracy: 96.39%\n",
            "Epoch: 2, Learning Rate: 2.70e-03, Training Loss:0.127, Test Loss:0.149, Test Accuracy: 96.98%\n",
            "Epoch: 3, Learning Rate: 2.43e-03, Training Loss:0.101, Test Loss:0.138, Test Accuracy: 97.47%\n",
            "Epoch: 4, Learning Rate: 2.19e-03, Training Loss:0.0849, Test Loss:0.129, Test Accuracy: 97.62%\n",
            "Epoch: 5, Learning Rate: 1.97e-03, Training Loss:0.0748, Test Loss:0.124, Test Accuracy: 97.71%\n",
            "---------------------------------------------------------------------------------------------\n",
            "(33, 98.07000000000001, {'h1': 700, 'h2': 500, 'mini_batch_size': 16, 'learning_rate': 0.01, 'learning_rate_decay': 0.8, 'regularization': 0}) \n",
            "\n",
            "Hyperparameters:\thidden_dims: (700, 500)\tmini_batch_size: 16\tregularization: 0\tlearning_rate: 0.003\tlearning_rate_decay: 0.8\tInitialization method: glorot_initializer\tActivation: RELU\n",
            "number of trainable parameters:905010\n",
            "Epoch: 1, Learning Rate: 3.00e-03, Training Loss:0.195, Test Loss:0.124, Test Accuracy: 96.02%\n",
            "Epoch: 2, Learning Rate: 2.40e-03, Training Loss:0.0691, Test Loss:0.0836, Test Accuracy: 97.57%\n",
            "Epoch: 3, Learning Rate: 1.92e-03, Training Loss:0.0387, Test Loss:0.0699, Test Accuracy: 97.89%\n",
            "Epoch: 4, Learning Rate: 1.54e-03, Training Loss:0.0222, Test Loss:0.068, Test Accuracy: 98.11%\n",
            "Epoch: 5, Learning Rate: 1.23e-03, Training Loss:0.0136, Test Loss:0.0647, Test Accuracy: 98.10%\n",
            "---------------------------------------------------------------------------------------------\n",
            "This new combination yielded the current best model so far.\n",
            "(42, 98.1, {'h1': 700, 'h2': 500, 'mini_batch_size': 16, 'learning_rate': 0.003, 'learning_rate_decay': 0.8, 'regularization': 0}) \n",
            "\n",
            "Hyperparameters:\thidden_dims: (700, 500)\tmini_batch_size: 16\tregularization: 0.001\tlearning_rate: 0.003\tlearning_rate_decay: 0.8\tInitialization method: glorot_initializer\tActivation: RELU\n",
            "number of trainable parameters:905010\n",
            "Epoch: 1, Learning Rate: 3.00e-03, Training Loss:0.2, Test Loss:0.122, Test Accuracy: 96.27%\n",
            "Epoch: 2, Learning Rate: 2.40e-03, Training Loss:0.0759, Test Loss:0.0951, Test Accuracy: 97.22%\n",
            "Epoch: 3, Learning Rate: 1.92e-03, Training Loss:0.0461, Test Loss:0.0852, Test Accuracy: 97.71%\n",
            "Epoch: 4, Learning Rate: 1.54e-03, Training Loss:0.0302, Test Loss:0.077, Test Accuracy: 98.02%\n",
            "Epoch: 5, Learning Rate: 1.23e-03, Training Loss:0.0219, Test Loss:0.0682, Test Accuracy: 98.14%\n",
            "---------------------------------------------------------------------------------------------\n",
            "This new combination yielded the current best model so far.\n",
            "(43, 98.14, {'h1': 700, 'h2': 500, 'mini_batch_size': 16, 'learning_rate': 0.003, 'learning_rate_decay': 0.8, 'regularization': 0.001}) \n",
            "\n",
            "Hyperparameters:\thidden_dims: (700, 500)\tmini_batch_size: 16\tregularization: 0.01\tlearning_rate: 0.003\tlearning_rate_decay: 0.8\tInitialization method: glorot_initializer\tActivation: RELU\n",
            "number of trainable parameters:905010\n",
            "Epoch: 1, Learning Rate: 3.00e-03, Training Loss:0.241, Test Loss:0.166, Test Accuracy: 96.44%\n",
            "Epoch: 2, Learning Rate: 2.40e-03, Training Loss:0.123, Test Loss:0.144, Test Accuracy: 97.06%\n",
            "Epoch: 3, Learning Rate: 1.92e-03, Training Loss:0.0951, Test Loss:0.125, Test Accuracy: 97.76%\n",
            "Epoch: 4, Learning Rate: 1.54e-03, Training Loss:0.0801, Test Loss:0.116, Test Accuracy: 97.93%\n",
            "Epoch: 5, Learning Rate: 1.23e-03, Training Loss:0.0711, Test Loss:0.112, Test Accuracy: 98.01%\n",
            "---------------------------------------------------------------------------------------------\n",
            "(43, 98.14, {'h1': 700, 'h2': 500, 'mini_batch_size': 16, 'learning_rate': 0.003, 'learning_rate_decay': 0.8, 'regularization': 0.001}) \n",
            "\n",
            "Hyperparameters:\thidden_dims: (700, 500)\tmini_batch_size: 16\tregularization: 0\tlearning_rate: 0.001\tlearning_rate_decay: 1\tInitialization method: glorot_initializer\tActivation: RELU\n",
            "number of trainable parameters:905010\n",
            "Epoch: 1, Learning Rate: 1.00e-03, Training Loss:0.248, Test Loss:0.137, Test Accuracy: 95.81%\n",
            "Epoch: 2, Learning Rate: 1.00e-03, Training Loss:0.0971, Test Loss:0.0982, Test Accuracy: 96.94%\n",
            "Epoch: 3, Learning Rate: 1.00e-03, Training Loss:0.0632, Test Loss:0.0809, Test Accuracy: 97.56%\n",
            "Epoch: 4, Learning Rate: 1.00e-03, Training Loss:0.0439, Test Loss:0.0703, Test Accuracy: 97.77%\n",
            "Epoch: 5, Learning Rate: 1.00e-03, Training Loss:0.0308, Test Loss:0.0662, Test Accuracy: 97.88%\n",
            "---------------------------------------------------------------------------------------------\n",
            "(43, 98.14, {'h1': 700, 'h2': 500, 'mini_batch_size': 16, 'learning_rate': 0.003, 'learning_rate_decay': 0.8, 'regularization': 0.001}) \n",
            "\n",
            "Hyperparameters:\thidden_dims: (700, 500)\tmini_batch_size: 16\tregularization: 0.001\tlearning_rate: 0.001\tlearning_rate_decay: 1\tInitialization method: glorot_initializer\tActivation: RELU\n",
            "number of trainable parameters:905010\n",
            "Epoch: 1, Learning Rate: 1.00e-03, Training Loss:0.253, Test Loss:0.14, Test Accuracy: 95.69%\n",
            "Epoch: 2, Learning Rate: 1.00e-03, Training Loss:0.102, Test Loss:0.104, Test Accuracy: 96.92%\n",
            "Epoch: 3, Learning Rate: 1.00e-03, Training Loss:0.0682, Test Loss:0.09, Test Accuracy: 97.31%\n",
            "Epoch: 4, Learning Rate: 1.00e-03, Training Loss:0.0491, Test Loss:0.0803, Test Accuracy: 97.68%\n",
            "Epoch: 5, Learning Rate: 1.00e-03, Training Loss:0.0366, Test Loss:0.0783, Test Accuracy: 97.71%\n",
            "---------------------------------------------------------------------------------------------\n",
            "(43, 98.14, {'h1': 700, 'h2': 500, 'mini_batch_size': 16, 'learning_rate': 0.003, 'learning_rate_decay': 0.8, 'regularization': 0.001}) \n",
            "\n",
            "Hyperparameters:\thidden_dims: (700, 500)\tmini_batch_size: 16\tregularization: 0.01\tlearning_rate: 0.001\tlearning_rate_decay: 1\tInitialization method: glorot_initializer\tActivation: RELU\n",
            "number of trainable parameters:905010\n",
            "Epoch: 1, Learning Rate: 1.00e-03, Training Loss:0.284, Test Loss:0.177, Test Accuracy: 95.77%\n",
            "Epoch: 2, Learning Rate: 1.00e-03, Training Loss:0.14, Test Loss:0.144, Test Accuracy: 96.78%\n",
            "Epoch: 3, Learning Rate: 1.00e-03, Training Loss:0.109, Test Loss:0.131, Test Accuracy: 97.24%\n",
            "Epoch: 4, Learning Rate: 1.00e-03, Training Loss:0.0925, Test Loss:0.124, Test Accuracy: 97.49%\n",
            "Epoch: 5, Learning Rate: 1.00e-03, Training Loss:0.0814, Test Loss:0.118, Test Accuracy: 97.69%\n",
            "---------------------------------------------------------------------------------------------\n",
            "(43, 98.14, {'h1': 700, 'h2': 500, 'mini_batch_size': 16, 'learning_rate': 0.003, 'learning_rate_decay': 0.8, 'regularization': 0.001}) \n",
            "\n",
            "Hyperparameters:\thidden_dims: (700, 500)\tmini_batch_size: 16\tregularization: 0\tlearning_rate: 0.001\tlearning_rate_decay: 0.9\tInitialization method: glorot_initializer\tActivation: RELU\n",
            "number of trainable parameters:905010\n",
            "Epoch: 1, Learning Rate: 1.00e-03, Training Loss:0.247, Test Loss:0.133, Test Accuracy: 95.88%\n",
            "Epoch: 2, Learning Rate: 9.00e-04, Training Loss:0.0953, Test Loss:0.0984, Test Accuracy: 97.07%\n",
            "Epoch: 3, Learning Rate: 8.10e-04, Training Loss:0.0619, Test Loss:0.082, Test Accuracy: 97.43%\n",
            "Epoch: 4, Learning Rate: 7.29e-04, Training Loss:0.0436, Test Loss:0.071, Test Accuracy: 97.70%\n",
            "Epoch: 5, Learning Rate: 6.56e-04, Training Loss:0.0316, Test Loss:0.0669, Test Accuracy: 97.79%\n",
            "---------------------------------------------------------------------------------------------\n",
            "(43, 98.14, {'h1': 700, 'h2': 500, 'mini_batch_size': 16, 'learning_rate': 0.003, 'learning_rate_decay': 0.8, 'regularization': 0.001}) \n",
            "\n",
            "Hyperparameters:\thidden_dims: (700, 500)\tmini_batch_size: 16\tregularization: 0.001\tlearning_rate: 0.001\tlearning_rate_decay: 0.9\tInitialization method: glorot_initializer\tActivation: RELU\n",
            "number of trainable parameters:905010\n",
            "Epoch: 1, Learning Rate: 1.00e-03, Training Loss:0.253, Test Loss:0.142, Test Accuracy: 95.71%\n",
            "Epoch: 2, Learning Rate: 9.00e-04, Training Loss:0.101, Test Loss:0.101, Test Accuracy: 97.11%\n",
            "Epoch: 3, Learning Rate: 8.10e-04, Training Loss:0.0674, Test Loss:0.0861, Test Accuracy: 97.51%\n",
            "Epoch: 4, Learning Rate: 7.29e-04, Training Loss:0.0493, Test Loss:0.0786, Test Accuracy: 97.65%\n",
            "Epoch: 5, Learning Rate: 6.56e-04, Training Loss:0.0377, Test Loss:0.0726, Test Accuracy: 97.87%\n",
            "---------------------------------------------------------------------------------------------\n",
            "(43, 98.14, {'h1': 700, 'h2': 500, 'mini_batch_size': 16, 'learning_rate': 0.003, 'learning_rate_decay': 0.8, 'regularization': 0.001}) \n",
            "\n",
            "Hyperparameters:\thidden_dims: (700, 500)\tmini_batch_size: 16\tregularization: 0.01\tlearning_rate: 0.001\tlearning_rate_decay: 0.9\tInitialization method: glorot_initializer\tActivation: RELU\n",
            "number of trainable parameters:905010\n",
            "Epoch: 1, Learning Rate: 1.00e-03, Training Loss:0.283, Test Loss:0.175, Test Accuracy: 95.68%\n",
            "Epoch: 2, Learning Rate: 9.00e-04, Training Loss:0.138, Test Loss:0.139, Test Accuracy: 96.97%\n",
            "Epoch: 3, Learning Rate: 8.10e-04, Training Loss:0.108, Test Loss:0.124, Test Accuracy: 97.51%\n",
            "Epoch: 4, Learning Rate: 7.29e-04, Training Loss:0.0914, Test Loss:0.116, Test Accuracy: 97.67%\n",
            "Epoch: 5, Learning Rate: 6.56e-04, Training Loss:0.0812, Test Loss:0.112, Test Accuracy: 97.78%\n",
            "---------------------------------------------------------------------------------------------\n",
            "(43, 98.14, {'h1': 700, 'h2': 500, 'mini_batch_size': 16, 'learning_rate': 0.003, 'learning_rate_decay': 0.8, 'regularization': 0.001}) \n",
            "\n",
            "Hyperparameters:\thidden_dims: (700, 500)\tmini_batch_size: 16\tregularization: 0\tlearning_rate: 0.001\tlearning_rate_decay: 0.8\tInitialization method: glorot_initializer\tActivation: RELU\n",
            "number of trainable parameters:905010\n",
            "Epoch: 1, Learning Rate: 1.00e-03, Training Loss:0.249, Test Loss:0.133, Test Accuracy: 95.82%\n",
            "Epoch: 2, Learning Rate: 8.00e-04, Training Loss:0.0941, Test Loss:0.0932, Test Accuracy: 97.21%\n",
            "Epoch: 3, Learning Rate: 6.40e-04, Training Loss:0.0621, Test Loss:0.0767, Test Accuracy: 97.61%\n",
            "Epoch: 4, Learning Rate: 5.12e-04, Training Loss:0.0455, Test Loss:0.0681, Test Accuracy: 97.81%\n",
            "Epoch: 5, Learning Rate: 4.10e-04, Training Loss:0.0354, Test Loss:0.0635, Test Accuracy: 98.00%\n",
            "---------------------------------------------------------------------------------------------\n",
            "(43, 98.14, {'h1': 700, 'h2': 500, 'mini_batch_size': 16, 'learning_rate': 0.003, 'learning_rate_decay': 0.8, 'regularization': 0.001}) \n",
            "\n",
            "Hyperparameters:\thidden_dims: (700, 500)\tmini_batch_size: 16\tregularization: 0.001\tlearning_rate: 0.001\tlearning_rate_decay: 0.8\tInitialization method: glorot_initializer\tActivation: RELU\n",
            "number of trainable parameters:905010\n",
            "Epoch: 1, Learning Rate: 1.00e-03, Training Loss:0.254, Test Loss:0.14, Test Accuracy: 95.93%\n",
            "Epoch: 2, Learning Rate: 8.00e-04, Training Loss:0.0999, Test Loss:0.1, Test Accuracy: 97.15%\n",
            "Epoch: 3, Learning Rate: 6.40e-04, Training Loss:0.0669, Test Loss:0.0862, Test Accuracy: 97.49%\n"
          ],
          "name": "stdout"
        }
      ]
    }
  ]
}