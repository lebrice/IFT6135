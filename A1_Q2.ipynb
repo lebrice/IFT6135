{
  "nbformat": 4,
  "nbformat_minor": 0,
  "metadata": {
    "colab": {
      "name": "A1-Q2.ipynb",
      "version": "0.3.2",
      "provenance": [],
      "collapsed_sections": [],
      "include_colab_link": true
    },
    "kernelspec": {
      "name": "python3",
      "display_name": "Python 3"
    },
    "accelerator": "TPU"
  },
  "cells": [
    {
      "cell_type": "markdown",
      "metadata": {
        "id": "view-in-github",
        "colab_type": "text"
      },
      "source": [
        "<a href=\"https://colab.research.google.com/github/lebrice/IFT6135/blob/master/A1_Q2.ipynb\" target=\"_parent\"><img src=\"https://colab.research.google.com/assets/colab-badge.svg\" alt=\"Open In Colab\"/></a>"
      ]
    },
    {
      "metadata": {
        "id": "qZZPI3d4qqD4",
        "colab_type": "text"
      },
      "cell_type": "markdown",
      "source": [
        "##1. Come up with a CNN architecture with more or less similar number of parameters as MLP trained in Problem 1 and describe it.\n",
        "\n",
        "\n",
        "---"
      ]
    },
    {
      "metadata": {
        "id": "5AP5qxlLQqSp",
        "colab_type": "code",
        "colab": {}
      },
      "cell_type": "code",
      "source": [
        "\"\"\"\n",
        "Inspired in part from https://github.com/keras-team/keras/blob/master/examples/mnist_cnn.py\n",
        "\"\"\"\n",
        "import tensorflow as tf\n",
        "from tensorflow import keras\n",
        "from keras.datasets import mnist\n",
        "from keras.backend import image_data_format\n",
        "\n",
        "(x_train, y_train), (x_test, y_test) = mnist.load_data()\n",
        "\n",
        "rows, cols = 28, 28\n",
        "num_classes = 10\n",
        "batch_size=128\n",
        "\n",
        "if image_data_format() == 'channels_first':\n",
        "    x_train = x_train.reshape(x_train.shape[0], 1, rows, cols)\n",
        "    x_test = x_test.reshape(x_test.shape[0], 1, rows, cols)\n",
        "    input_shape = (1, rows, cols)\n",
        "else:\n",
        "    x_train = x_train.reshape(x_train.shape[0], rows, cols, 1)\n",
        "    x_test = x_test.reshape(x_test.shape[0], rows, cols, 1)\n",
        "    input_shape = (rows, cols, 1)\n",
        "\n",
        "x_train = x_train / 255.0\n",
        "x_test = x_test / 255.0\n",
        "\n",
        "# convert class vectors to binary class matrices\n",
        "y_train = keras.utils.to_categorical(y_train, num_classes)\n",
        "y_test = keras.utils.to_categorical(y_test, num_classes)\n",
        "\n",
        "# y_train = y_train.reshape(y_train.shape[0], 1, num_classes)\n",
        "# y_test = y_test.reshape(y_test.shape[0], 1, num_classes)\n",
        "\n",
        "model = keras.Sequential([\n",
        "    keras.layers.InputLayer(input_shape=input_shape),\n",
        "    keras.layers.Conv2D(filters=16, kernel_size=(3,3), activation=keras.activations.relu),\n",
        "    keras.layers.Conv2D(filters=32, kernel_size=(3,3), activation=keras.activations.relu),\n",
        "    keras.layers.MaxPool2D(2),\n",
        "#     keras.layers.Conv2D(filters=32, kernel_size=(3,3), activation=keras.activations.relu),\n",
        "#     keras.layers.Conv2D(filters=32, kernel_size=(3,3), activation=keras.activations.relu),\n",
        "#     keras.layers.Conv2D(filters=32, kernel_size=(3,3), activation=keras.activations.relu),\n",
        "#     keras.layers.MaxPool2D(2),\n",
        "#     keras.layers.Dropout(0.25),\n",
        "    keras.layers.Flatten(),\n",
        "    keras.layers.Dense(128, activation=keras.activations.relu),\n",
        "#     keras.layers.Dropout(0.5),\n",
        "    keras.layers.Dense(10, activation=keras.activations.softmax),\n",
        "])\n",
        "model.compile(\n",
        "    loss=tf.keras.losses.categorical_crossentropy,\n",
        "    optimizer=tf.keras.optimizers.Adam(),\n",
        "    metrics=[\"accuracy\"],\n",
        ")\n",
        "model.build()"
      ],
      "execution_count": 0,
      "outputs": []
    },
    {
      "metadata": {
        "id": "L0FmxMWfuInO",
        "colab_type": "text"
      },
      "cell_type": "markdown",
      "source": [
        "## Model Architecture:\n",
        "\n",
        "The architecture used is detailed in the model summary seen below:\n",
        "\n",
        "- Input of 28x28 with a batch size of 128.\n",
        "- First, a series of two convolutional layers with k=3 kernels extract visual features from the input images. \n",
        "- Each convolutional layers use an elementwise activation function ReLU.\n",
        "- The convolutional layers are followed with a 2x2 max-pooling layer\n",
        "<!-- - A Dropout layer is used, with drop rate of 0.25 -->\n",
        "- Features are flattened and fed to a Dense layer with 128 hidden units\n",
        "<!-- - A Dropout layer is used once again, this time with drop rate of 0.5 -->\n",
        "- A final dense layer with 10 units and softmax activation. \n"
      ]
    },
    {
      "metadata": {
        "id": "Et7DQdL-uG45",
        "colab_type": "code",
        "outputId": "c8eeb114-9a9e-4c28-f990-6c6aa0e49d43",
        "colab": {
          "base_uri": "https://localhost:8080/",
          "height": 366
        }
      },
      "cell_type": "code",
      "source": [
        "model.summary()"
      ],
      "execution_count": 0,
      "outputs": [
        {
          "output_type": "stream",
          "text": [
            "_________________________________________________________________\n",
            "Layer (type)                 Output Shape              Param #   \n",
            "=================================================================\n",
            "conv2d (Conv2D)              (None, 26, 26, 16)        160       \n",
            "_________________________________________________________________\n",
            "conv2d_1 (Conv2D)            (None, 24, 24, 32)        4640      \n",
            "_________________________________________________________________\n",
            "max_pooling2d (MaxPooling2D) (None, 12, 12, 32)        0         \n",
            "_________________________________________________________________\n",
            "flatten (Flatten)            (None, 4608)              0         \n",
            "_________________________________________________________________\n",
            "dense (Dense)                (None, 128)               589952    \n",
            "_________________________________________________________________\n",
            "dense_1 (Dense)              (None, 10)                1290      \n",
            "=================================================================\n",
            "Total params: 596,042\n",
            "Trainable params: 596,042\n",
            "Non-trainable params: 0\n",
            "_________________________________________________________________\n"
          ],
          "name": "stdout"
        }
      ]
    },
    {
      "metadata": {
        "id": "hws8jCbcufpx",
        "colab_type": "text"
      },
      "cell_type": "markdown",
      "source": [
        "## 2.  CNN Model Performance VS MLP\n",
        "\n",
        "The CNN-based model has increased performance compared with the MLP. **This increase in performance is in both the validation accuracy and the training time**. The validation accuracy for the MLP was around $98.20\\text{%}$ while the accuracy for the CNN was $98.97\\text{%}$. What explains this slight increase is that CNNs analyze images better than MLPs. To analyze an image, a MLP needs the inputs to be flattened in order to transfer the values to the neurons. Hence, the values are treated as a column vector where weights are assigned to each pixel while the spacial structure of the image is disregarded. However, this is where CNNs get their first advantage as they can preserve the initial dimensions of the input during the first convolution of the image to take into consideration its spatial structure. Thus, special features such as lines, edges, and others, will be able to be detected by the feature maps during the convolution.\n",
        "\n",
        "Additionaly, the CNN converges a lot quicker to its global minimum than the MLP. This is shown in the first epoch of the CNN reaching a validation accuracy of $98\\text{%}$ while the MLP would be at $95-96\\text{%}$. Also, we used the same total number of parameters for both the CNN and MLP, but in fact the CNN requires a lot less parameters than its counterpart. This is due to the local connectivity of the hidden units and the parameter sharing across units of the same feature map. Both these techniques added with the pooling/subsampling layer reduce the number of parameters needed in the network and make the CNN more efficient for the same total number of parameters compared to the MLP. However, since the CNN reaches its optimal accuracy faster, it will start overfitting faster than the MLP with this dataset. In all, this explains the increase in performance of CNN over MLP for the MNIST dataset."
      ]
    },
    {
      "metadata": {
        "id": "vE5ZM5ClpsFV",
        "colab_type": "code",
        "outputId": "72d0b4bc-7b47-4220-aa81-15d672ce4354",
        "colab": {
          "base_uri": "https://localhost:8080/",
          "height": 458
        }
      },
      "cell_type": "code",
      "source": [
        "\n",
        "history = model.fit(x_train, y_train, epochs=10, validation_data=(x_test, y_test), batch_size=batch_size)"
      ],
      "execution_count": 0,
      "outputs": [
        {
          "output_type": "stream",
          "text": [
            "Train on 60000 samples, validate on 10000 samples\n",
            "WARNING:tensorflow:From /usr/local/lib/python3.6/dist-packages/tensorflow/python/ops/math_ops.py:3066: to_int32 (from tensorflow.python.ops.math_ops) is deprecated and will be removed in a future version.\n",
            "Instructions for updating:\n",
            "Use tf.cast instead.\n",
            "Epoch 1/10\n",
            "60000/60000 [==============================] - 156s 3ms/sample - loss: 0.1951 - acc: 0.9427 - val_loss: 0.0554 - val_acc: 0.9832\n",
            "Epoch 2/10\n",
            "60000/60000 [==============================] - 154s 3ms/sample - loss: 0.0520 - acc: 0.9840 - val_loss: 0.0385 - val_acc: 0.9883\n",
            "Epoch 3/10\n",
            "60000/60000 [==============================] - 151s 3ms/sample - loss: 0.0337 - acc: 0.9893 - val_loss: 0.0341 - val_acc: 0.9885\n",
            "Epoch 4/10\n",
            "60000/60000 [==============================] - 152s 3ms/sample - loss: 0.0243 - acc: 0.9923 - val_loss: 0.0345 - val_acc: 0.9887\n",
            "Epoch 5/10\n",
            "60000/60000 [==============================] - 152s 3ms/sample - loss: 0.0169 - acc: 0.9945 - val_loss: 0.0376 - val_acc: 0.9884\n",
            "Epoch 6/10\n",
            "60000/60000 [==============================] - 151s 3ms/sample - loss: 0.0131 - acc: 0.9959 - val_loss: 0.0378 - val_acc: 0.9889\n",
            "Epoch 7/10\n",
            "60000/60000 [==============================] - 150s 2ms/sample - loss: 0.0090 - acc: 0.9971 - val_loss: 0.0414 - val_acc: 0.9888\n",
            "Epoch 8/10\n",
            "60000/60000 [==============================] - 154s 3ms/sample - loss: 0.0082 - acc: 0.9974 - val_loss: 0.0384 - val_acc: 0.9882\n",
            "Epoch 9/10\n",
            "60000/60000 [==============================] - 152s 3ms/sample - loss: 0.0076 - acc: 0.9975 - val_loss: 0.0465 - val_acc: 0.9870\n",
            "Epoch 10/10\n",
            "60000/60000 [==============================] - 151s 3ms/sample - loss: 0.0064 - acc: 0.9980 - val_loss: 0.0408 - val_acc: 0.9897\n"
          ],
          "name": "stdout"
        }
      ]
    },
    {
      "metadata": {
        "id": "SzNsP3wSehZk",
        "colab_type": "code",
        "outputId": "cf0cceaf-62dd-48c1-ceee-90c6f4d9da58",
        "colab": {
          "base_uri": "https://localhost:8080/",
          "height": 54
        }
      },
      "cell_type": "code",
      "source": [
        "\n",
        "score = model.evaluate(x_test, y_test, verbose=0)\n",
        "print('Test loss:', score[0])\n",
        "print('Test accuracy:', score[1])\n"
      ],
      "execution_count": 0,
      "outputs": [
        {
          "output_type": "stream",
          "text": [
            "Test loss: 0.040829949026303256\n",
            "Test accuracy: 0.9897\n"
          ],
          "name": "stdout"
        }
      ]
    },
    {
      "metadata": {
        "id": "f_3HhYLJdqKi",
        "colab_type": "code",
        "outputId": "6a7bb4b9-964e-4022-d5b9-30d83f3aeaff",
        "colab": {
          "base_uri": "https://localhost:8080/",
          "height": 735
        }
      },
      "cell_type": "code",
      "source": [
        "import matplotlib.pyplot as plt\n",
        "# TAKEN FROM https://machinelearningmastery.com/display-deep-learning-model-training-history-in-keras/\n",
        "# summarize history for accuracy\n",
        "plt.plot(history.history['acc'])\n",
        "plt.plot(history.history['val_acc'])\n",
        "plt.title('model accuracy')\n",
        "plt.ylabel('accuracy')\n",
        "plt.xlabel('epoch')\n",
        "plt.legend(['train', 'test'], loc='upper left')\n",
        "plt.show()\n",
        "# summarize history for loss\n",
        "plt.plot(history.history['loss'])\n",
        "plt.plot(history.history['val_loss'])\n",
        "plt.title('model loss')\n",
        "plt.ylabel('loss')\n",
        "plt.xlabel('epoch')\n",
        "plt.legend(['train', 'test'], loc='upper left')\n",
        "plt.show()"
      ],
      "execution_count": 0,
      "outputs": [
        {
          "output_type": "display_data",
          "data": {
            "image/png": "[encoded data removed]",
            "text/plain": [
              "<Figure size 576x396 with 1 Axes>"
            ]
          },
          "metadata": {
            "tags": []
          }
        },
        {
          "output_type": "display_data",
          "data": {
            "image/png": "[encoded data removed]",
            "text/plain": [
              "<Figure size 576x396 with 1 Axes>"
            ]
          },
          "metadata": {
            "tags": []
          }
        }
      ]
    }
  ]
}